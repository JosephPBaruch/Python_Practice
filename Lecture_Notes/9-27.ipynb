{
 "cells": [
  {
   "cell_type": "markdown",
   "id": "75d5cb39",
   "metadata": {},
   "source": [
    "# Exploring Datasets w/ Pandas\n",
    "> Making a date aware data set using to_datetime()"
   ]
  },
  {
   "cell_type": "code",
   "execution_count": 1,
   "id": "80b8ddd1",
   "metadata": {},
   "outputs": [],
   "source": [
    "import pandas as pd"
   ]
  },
  {
   "cell_type": "code",
   "execution_count": 6,
   "id": "cc4efc75",
   "metadata": {},
   "outputs": [],
   "source": [
    "rainfall_df = pd.read_csv('test.csv', header=2)"
   ]
  },
  {
   "cell_type": "code",
   "execution_count": 7,
   "id": "8ee73774",
   "metadata": {},
   "outputs": [
    {
     "data": {
      "text/html": [
       "<div>\n",
       "<style scoped>\n",
       "    .dataframe tbody tr th:only-of-type {\n",
       "        vertical-align: middle;\n",
       "    }\n",
       "\n",
       "    .dataframe tbody tr th {\n",
       "        vertical-align: top;\n",
       "    }\n",
       "\n",
       "    .dataframe thead th {\n",
       "        text-align: right;\n",
       "    }\n",
       "</style>\n",
       "<table border=\"1\" class=\"dataframe\">\n",
       "  <thead>\n",
       "    <tr style=\"text-align: right;\">\n",
       "      <th></th>\n",
       "      <th>Site Id</th>\n",
       "      <th>Date</th>\n",
       "      <th>Time</th>\n",
       "      <th>PREC.I-1 (in)</th>\n",
       "    </tr>\n",
       "  </thead>\n",
       "  <tbody>\n",
       "    <tr>\n",
       "      <th>0</th>\n",
       "      <td>989</td>\n",
       "      <td>8/1/23</td>\n",
       "      <td>NaN</td>\n",
       "      <td>35.9</td>\n",
       "    </tr>\n",
       "    <tr>\n",
       "      <th>1</th>\n",
       "      <td>989</td>\n",
       "      <td>8/2/23</td>\n",
       "      <td>NaN</td>\n",
       "      <td>35.9</td>\n",
       "    </tr>\n",
       "    <tr>\n",
       "      <th>2</th>\n",
       "      <td>989</td>\n",
       "      <td>8/3/23</td>\n",
       "      <td>NaN</td>\n",
       "      <td>35.9</td>\n",
       "    </tr>\n",
       "    <tr>\n",
       "      <th>3</th>\n",
       "      <td>989</td>\n",
       "      <td>8/4/23</td>\n",
       "      <td>NaN</td>\n",
       "      <td>35.9</td>\n",
       "    </tr>\n",
       "    <tr>\n",
       "      <th>4</th>\n",
       "      <td>989</td>\n",
       "      <td>8/5/23</td>\n",
       "      <td>NaN</td>\n",
       "      <td>35.9</td>\n",
       "    </tr>\n",
       "  </tbody>\n",
       "</table>\n",
       "</div>"
      ],
      "text/plain": [
       "   Site Id    Date  Time  PREC.I-1 (in) \n",
       "0      989  8/1/23   NaN            35.9\n",
       "1      989  8/2/23   NaN            35.9\n",
       "2      989  8/3/23   NaN            35.9\n",
       "3      989  8/4/23   NaN            35.9\n",
       "4      989  8/5/23   NaN            35.9"
      ]
     },
     "execution_count": 7,
     "metadata": {},
     "output_type": "execute_result"
    }
   ],
   "source": [
    "rainfall_df.head()"
   ]
  },
  {
   "cell_type": "code",
   "execution_count": 8,
   "id": "1a27802a",
   "metadata": {},
   "outputs": [],
   "source": [
    "rainfall_df['Date'] = pd.to_datetime(rainfall_df['Date'])"
   ]
  },
  {
   "cell_type": "code",
   "execution_count": 11,
   "id": "798b6032",
   "metadata": {},
   "outputs": [
    {
     "name": "stdout",
     "output_type": "stream",
     "text": [
      "0    2023-08-01\n",
      "1    2023-08-02\n",
      "2    2023-08-03\n",
      "3    2023-08-04\n",
      "4    2023-08-05\n",
      "5    2023-08-06\n",
      "6    2023-08-07\n",
      "7    2023-08-08\n",
      "8    2023-08-09\n",
      "9    2023-08-10\n",
      "10   2023-08-11\n",
      "11   2023-08-12\n",
      "12   2023-08-13\n",
      "13   2023-08-14\n",
      "14   2023-08-15\n",
      "15   2023-08-16\n",
      "16   2023-08-17\n",
      "17   2023-08-18\n",
      "18   2023-08-19\n",
      "19   2023-08-20\n",
      "20   2023-08-21\n",
      "21   2023-08-22\n",
      "22   2023-08-23\n",
      "23   2023-08-24\n",
      "24   2023-08-25\n",
      "25   2023-08-26\n",
      "26   2023-08-27\n",
      "27   2023-08-28\n",
      "28   2023-08-29\n",
      "29   2023-08-30\n",
      "30   2023-08-31\n",
      "Name: Date, dtype: datetime64[ns]\n"
     ]
    }
   ],
   "source": [
    "print(rainfall_df[\"Date\"])"
   ]
  },
  {
   "cell_type": "code",
   "execution_count": 18,
   "id": "499b1132",
   "metadata": {},
   "outputs": [
    {
     "name": "stdout",
     "output_type": "stream",
     "text": [
      "8\n",
      "8\n",
      "8\n",
      "8\n",
      "8\n",
      "8\n",
      "8\n",
      "8\n",
      "8\n",
      "8\n",
      "8\n",
      "8\n",
      "8\n",
      "8\n",
      "8\n",
      "8\n",
      "8\n",
      "8\n",
      "8\n",
      "8\n",
      "8\n",
      "8\n",
      "8\n",
      "8\n",
      "8\n",
      "8\n",
      "8\n",
      "8\n",
      "8\n",
      "8\n",
      "8\n"
     ]
    }
   ],
   "source": [
    "for i in range(len(rainfall_df['Date'])):\n",
    "    print(rainfall_df['Date'][i].month)"
   ]
  },
  {
   "cell_type": "code",
   "execution_count": 12,
   "id": "55835476",
   "metadata": {},
   "outputs": [
    {
     "data": {
      "text/html": [
       "<div>\n",
       "<style scoped>\n",
       "    .dataframe tbody tr th:only-of-type {\n",
       "        vertical-align: middle;\n",
       "    }\n",
       "\n",
       "    .dataframe tbody tr th {\n",
       "        vertical-align: top;\n",
       "    }\n",
       "\n",
       "    .dataframe thead th {\n",
       "        text-align: right;\n",
       "    }\n",
       "</style>\n",
       "<table border=\"1\" class=\"dataframe\">\n",
       "  <thead>\n",
       "    <tr style=\"text-align: right;\">\n",
       "      <th></th>\n",
       "      <th>Site Id</th>\n",
       "      <th>Date</th>\n",
       "      <th>Time</th>\n",
       "      <th>PREC.I-1 (in)</th>\n",
       "    </tr>\n",
       "  </thead>\n",
       "  <tbody>\n",
       "    <tr>\n",
       "      <th>0</th>\n",
       "      <td>989</td>\n",
       "      <td>2023-08-01</td>\n",
       "      <td>NaN</td>\n",
       "      <td>35.9</td>\n",
       "    </tr>\n",
       "  </tbody>\n",
       "</table>\n",
       "</div>"
      ],
      "text/plain": [
       "   Site Id       Date  Time  PREC.I-1 (in) \n",
       "0      989 2023-08-01   NaN            35.9"
      ]
     },
     "execution_count": 12,
     "metadata": {},
     "output_type": "execute_result"
    }
   ],
   "source": [
    "rainfall_df[rainfall_df['Date'] == pd.to_datetime('2023-08-01')]"
   ]
  },
  {
   "cell_type": "code",
   "execution_count": 17,
   "id": "2e1524eb",
   "metadata": {},
   "outputs": [
    {
     "data": {
      "text/plain": [
       "0     False\n",
       "1     False\n",
       "2     False\n",
       "3     False\n",
       "4     False\n",
       "5     False\n",
       "6     False\n",
       "7     False\n",
       "8     False\n",
       "9     False\n",
       "10    False\n",
       "11    False\n",
       "12    False\n",
       "13    False\n",
       "14    False\n",
       "15     True\n",
       "16     True\n",
       "17     True\n",
       "18     True\n",
       "19     True\n",
       "20     True\n",
       "21     True\n",
       "22     True\n",
       "23     True\n",
       "24     True\n",
       "25     True\n",
       "26     True\n",
       "27     True\n",
       "28     True\n",
       "29     True\n",
       "30     True\n",
       "Name: Date, dtype: bool"
      ]
     },
     "execution_count": 17,
     "metadata": {},
     "output_type": "execute_result"
    }
   ],
   "source": [
    "rainfall_df['Date'] > pd.to_datetime('2023-08-15')"
   ]
  },
  {
   "cell_type": "code",
   "execution_count": 19,
   "id": "61f0e0d3",
   "metadata": {},
   "outputs": [
    {
     "data": {
      "text/plain": [
       "0    35.9\n",
       "Name: PREC.I-1 (in) , dtype: float64"
      ]
     },
     "execution_count": 19,
     "metadata": {},
     "output_type": "execute_result"
    }
   ],
   "source": [
    "rainfall_df.loc[(rainfall_df['Date'] == pd.to_datetime('2023-08-01')), 'PREC.I-1 (in) '] # loc index's an index "
   ]
  },
  {
   "cell_type": "code",
   "execution_count": 20,
   "id": "d70bb4fd",
   "metadata": {},
   "outputs": [
    {
     "name": "stderr",
     "output_type": "stream",
     "text": [
      "/var/folders/3v/q192mwhs5095dds9n1kjhyb80000gn/T/ipykernel_33315/3785353536.py:1: FutureWarning: The frame.append method is deprecated and will be removed from pandas in a future version. Use pandas.concat instead.\n",
      "  rainfall_df = rainfall_df.append({'Site Id': 5, 'Date': '2023-09-01', 'Time': 'test'}, ignore_index = True)\n"
     ]
    }
   ],
   "source": [
    "rainfall_df = rainfall_df.append({'Site Id': 5, 'Date': '2023-09-01', 'Time': 'test'}, ignore_index = True)"
   ]
  },
  {
   "cell_type": "code",
   "execution_count": 24,
   "id": "339a4455",
   "metadata": {},
   "outputs": [],
   "source": [
    "test_df = pd.DataFrame([{'Site Id': 5, 'Date': '2023-09-01', 'Time': 'test'}])"
   ]
  },
  {
   "cell_type": "code",
   "execution_count": 25,
   "id": "523b47dc",
   "metadata": {},
   "outputs": [],
   "source": [
    "rainfall_df = pd.concat([rainfall_df, test_df], axis=0)"
   ]
  },
  {
   "cell_type": "code",
   "execution_count": 26,
   "id": "6ff789dc",
   "metadata": {},
   "outputs": [
    {
     "name": "stdout",
     "output_type": "stream",
     "text": [
      "    Site Id                 Date  Time  PREC.I-1 (in) \n",
      "0       989  2023-08-01 00:00:00   NaN            35.9\n",
      "1       989  2023-08-02 00:00:00   NaN            35.9\n",
      "2       989  2023-08-03 00:00:00   NaN            35.9\n",
      "3       989  2023-08-04 00:00:00   NaN            35.9\n",
      "4       989  2023-08-05 00:00:00   NaN            35.9\n",
      "5       989  2023-08-06 00:00:00   NaN            35.9\n",
      "6       989  2023-08-07 00:00:00   NaN            35.9\n",
      "7       989  2023-08-08 00:00:00   NaN            35.9\n",
      "8       989  2023-08-09 00:00:00   NaN            35.9\n",
      "9       989  2023-08-10 00:00:00   NaN            36.0\n",
      "10      989  2023-08-11 00:00:00   NaN            36.0\n",
      "11      989  2023-08-12 00:00:00   NaN            36.0\n",
      "12      989  2023-08-13 00:00:00   NaN            36.0\n",
      "13      989  2023-08-14 00:00:00   NaN            36.0\n",
      "14      989  2023-08-15 00:00:00   NaN            36.0\n",
      "15      989  2023-08-16 00:00:00   NaN            36.0\n",
      "16      989  2023-08-17 00:00:00   NaN            36.0\n",
      "17      989  2023-08-18 00:00:00   NaN            36.0\n",
      "18      989  2023-08-19 00:00:00   NaN            36.0\n",
      "19      989  2023-08-20 00:00:00   NaN            36.0\n",
      "20      989  2023-08-21 00:00:00   NaN            36.0\n",
      "21      989  2023-08-22 00:00:00   NaN            36.3\n",
      "22      989  2023-08-23 00:00:00   NaN            36.5\n",
      "23      989  2023-08-24 00:00:00   NaN            36.6\n",
      "24      989  2023-08-25 00:00:00   NaN            36.6\n",
      "25      989  2023-08-26 00:00:00   NaN            36.7\n",
      "26      989  2023-08-27 00:00:00   NaN            36.7\n",
      "27      989  2023-08-28 00:00:00   NaN            36.7\n",
      "28      989  2023-08-29 00:00:00   NaN            36.7\n",
      "29      989  2023-08-30 00:00:00   NaN            36.9\n",
      "30      989  2023-08-31 00:00:00   NaN            37.5\n",
      "31        5           2023-09-01  test             NaN\n",
      "0         5           2023-09-01  test             NaN\n"
     ]
    }
   ],
   "source": [
    "print(rainfall_df)"
   ]
  },
  {
   "cell_type": "code",
   "execution_count": null,
   "id": "afd35296",
   "metadata": {},
   "outputs": [],
   "source": []
  }
 ],
 "metadata": {
  "kernelspec": {
   "display_name": "Python 3 (ipykernel)",
   "language": "python",
   "name": "python3"
  },
  "language_info": {
   "codemirror_mode": {
    "name": "ipython",
    "version": 3
   },
   "file_extension": ".py",
   "mimetype": "text/x-python",
   "name": "python",
   "nbconvert_exporter": "python",
   "pygments_lexer": "ipython3",
   "version": "3.11.4"
  }
 },
 "nbformat": 4,
 "nbformat_minor": 5
}
