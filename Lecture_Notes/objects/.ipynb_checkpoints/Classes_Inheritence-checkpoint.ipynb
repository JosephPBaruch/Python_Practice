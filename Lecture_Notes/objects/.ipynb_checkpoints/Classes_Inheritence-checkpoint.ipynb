{
 "cells": [
  {
   "cell_type": "markdown",
   "id": "202a6853",
   "metadata": {},
   "source": [
    "# Classes and Inheritence"
   ]
  },
  {
   "cell_type": "code",
   "execution_count": 4,
   "id": "85cb224f",
   "metadata": {},
   "outputs": [],
   "source": [
    "# Parent Class\n",
    "class Animal: \n",
    "    def __init__(self, name, color):\n",
    "        self.name = name\n",
    "        self.color = color\n",
    "        self.position = 0 \n",
    "        \n",
    "    def speak(self):\n",
    "        pass\n",
    "    \n",
    "    def move(self):\n",
    "        self.position += 1 \n",
    "\n",
    "# Child Class\n",
    "class Dog(Animal): # class child(parent):\n",
    "    def __init__(self, name, color, breed):\n",
    "        super().__init__(name, color) # allows for initializing parent class values \n",
    "        self.breed = breed\n",
    "        \n",
    "    def speak(self): # specialized for this class\n",
    "        return \"woof woof\"\n",
    "    \n",
    "    def move(self):\n",
    "        super().move()\n",
    "        self.position += 2\n",
    "    \n",
    "    def __str__(self):\n",
    "        return \"I am a {0} and I am {1}\".format(self.breed, self.color)\n",
    "    \n",
    "    def __eq__(self, other):\n",
    "        return (isinstance(other, Dog)\n",
    "               and self.name == other.name\n",
    "               and self.breed == other.breed\n",
    "               and self.color == other.color\n",
    "               )"
   ]
  },
  {
   "cell_type": "code",
   "execution_count": 5,
   "id": "579f5750",
   "metadata": {},
   "outputs": [],
   "source": [
    "test_dog = Dog('Lucy', 'white', 'shei-poo')"
   ]
  },
  {
   "cell_type": "code",
   "execution_count": 6,
   "id": "3033b8e8",
   "metadata": {},
   "outputs": [],
   "source": [
    "test_dog.move()"
   ]
  },
  {
   "cell_type": "code",
   "execution_count": 7,
   "id": "c41a52f8",
   "metadata": {},
   "outputs": [
    {
     "data": {
      "text/plain": [
       "3"
      ]
     },
     "execution_count": 7,
     "metadata": {},
     "output_type": "execute_result"
    }
   ],
   "source": [
    "test_dog.position"
   ]
  },
  {
   "cell_type": "code",
   "execution_count": 8,
   "id": "7734de7a",
   "metadata": {},
   "outputs": [
    {
     "name": "stdout",
     "output_type": "stream",
     "text": [
      "I am a shei-poo and I am white\n"
     ]
    }
   ],
   "source": [
    "print(str(test_dog))"
   ]
  },
  {
   "cell_type": "markdown",
   "id": "f1020089",
   "metadata": {},
   "source": [
    "# Banking Application"
   ]
  },
  {
   "cell_type": "code",
   "execution_count": 9,
   "id": "7d2a4703",
   "metadata": {},
   "outputs": [],
   "source": [
    "class Account:\n",
    "    def __init__(self, number, name, balance):\n",
    "        self.__number = number\n",
    "        self.__name = name\n",
    "        self.__balance = balance\n",
    "\n",
    "    def deposit(self, amount):\n",
    "        if amount > 0:\n",
    "            self.__balance += amount\n",
    "        else:\n",
    "            print(\"Invalid amount at Deposit\")\n",
    "    \n",
    "    def withdraw(self, amount):\n",
    "        if amount > 0 and amount <= self.balance: \n",
    "            self.balance -= amount\n",
    "        else:\n",
    "            print(\"Invalid amount at withdraw\")\n",
    "            \n",
    "    def get_balance(self):\n",
    "        return self.__balance\n",
    "    \n",
    "    def updata_balance(self, balance):\n",
    "        self.__balance = balance\n",
    "        \n",
    "class Savings(Account):\n",
    "    def __init__(self, number, name, balance, interest_rate):\n",
    "        super().__init__(number, name, balance)\n",
    "        self.__interest_rate = interest_rate\n",
    "    def calculate_interest(self):\n",
    "        monthly_interest = (self.interest/12) * self.__balance\n",
    "        self.__balance = self.__balance + monthly_interest\n",
    "        \n",
    "if __name__ == '__main__':\n",
    "    test_account = Savings(1, 'Joe', 5, 0.12)\n",
    "    test_account.deposit(5)"
   ]
  },
  {
   "cell_type": "code",
   "execution_count": null,
   "id": "1e73591e",
   "metadata": {},
   "outputs": [],
   "source": []
  }
 ],
 "metadata": {
  "kernelspec": {
   "display_name": "Python 3 (ipykernel)",
   "language": "python",
   "name": "python3"
  },
  "language_info": {
   "codemirror_mode": {
    "name": "ipython",
    "version": 3
   },
   "file_extension": ".py",
   "mimetype": "text/x-python",
   "name": "python",
   "nbconvert_exporter": "python",
   "pygments_lexer": "ipython3",
   "version": "3.11.4"
  },
  "vscode": {
   "interpreter": {
    "hash": "aee8b7b246df8f9039afb4144a1f6fd8d2ca17a180786b69acc140d282b71a49"
   }
  }
 },
 "nbformat": 4,
 "nbformat_minor": 5
}
