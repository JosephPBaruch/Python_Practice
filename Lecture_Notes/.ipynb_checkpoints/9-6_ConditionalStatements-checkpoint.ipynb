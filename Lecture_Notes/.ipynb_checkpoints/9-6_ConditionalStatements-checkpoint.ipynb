{
 "cells": [
  {
   "cell_type": "markdown",
   "id": "fd68ad60",
   "metadata": {},
   "source": [
    "#  Lecture 7\n",
    "## Conditional Statements"
   ]
  },
  {
   "cell_type": "code",
   "execution_count": 17,
   "id": "5175288d",
   "metadata": {},
   "outputs": [],
   "source": [
    "import random"
   ]
  },
  {
   "cell_type": "code",
   "execution_count": 33,
   "id": "5de1d437",
   "metadata": {},
   "outputs": [],
   "source": [
    "# Coding Practice for class\n",
    "def grade_calc(score): \n",
    "    if score >= 90:\n",
    "        print(\"Grade: A\")\n",
    "        return \"A\"\n",
    "    elif score >= 80:\n",
    "        print(\"Grade: B\")\n",
    "        return \"B\"\n",
    "    elif score >= 70:\n",
    "        print(\"Grade: C\")\n",
    "        return \"C\"\n",
    "    elif score >= 60:\n",
    "        print(\"Grade: D\")\n",
    "        return \"D\"\n",
    "    else:\n",
    "        print(\"Grade: F\")\n",
    "        return \"F\"\n"
   ]
  },
  {
   "cell_type": "code",
   "execution_count": 35,
   "id": "9c27a137",
   "metadata": {},
   "outputs": [],
   "source": [
    "# Create a list of 'size' which is containing integers of rangle (0,100)\n",
    "def create_list(size):\n",
    "    list = [0] * size;\n",
    "    for i in range(0,size):\n",
    "        list[i] = random.randrange(0,100);\n",
    "    return list"
   ]
  },
  {
   "cell_type": "code",
   "execution_count": 45,
   "id": "f833a7c6",
   "metadata": {},
   "outputs": [],
   "source": [
    "Thelist = create_list(50)"
   ]
  },
  {
   "cell_type": "code",
   "execution_count": 46,
   "id": "9715b710",
   "metadata": {},
   "outputs": [],
   "source": [
    "def convert_to_letter(list):\n",
    "    for i in range(0, len(list)):\n",
    "        list[i] = grade_calc(list[i])\n",
    "    return list"
   ]
  },
  {
   "cell_type": "code",
   "execution_count": 47,
   "id": "2081cf8f",
   "metadata": {},
   "outputs": [
    {
     "name": "stdout",
     "output_type": "stream",
     "text": [
      "Grade: F\n",
      "Grade: F\n",
      "Grade: F\n",
      "Grade: F\n",
      "Grade: F\n",
      "Grade: D\n",
      "Grade: F\n",
      "Grade: F\n",
      "Grade: F\n",
      "Grade: F\n",
      "Grade: F\n",
      "Grade: A\n",
      "Grade: D\n",
      "Grade: C\n",
      "Grade: F\n",
      "Grade: D\n",
      "Grade: D\n",
      "Grade: F\n",
      "Grade: F\n",
      "Grade: D\n",
      "Grade: D\n",
      "Grade: F\n",
      "Grade: F\n",
      "Grade: D\n",
      "Grade: F\n",
      "Grade: A\n",
      "Grade: B\n",
      "Grade: C\n",
      "Grade: C\n",
      "Grade: F\n",
      "Grade: C\n",
      "Grade: F\n",
      "Grade: F\n",
      "Grade: A\n",
      "Grade: F\n",
      "Grade: F\n",
      "Grade: D\n",
      "Grade: F\n",
      "Grade: A\n",
      "Grade: F\n",
      "Grade: D\n",
      "Grade: B\n",
      "Grade: F\n",
      "Grade: F\n",
      "Grade: F\n",
      "Grade: C\n",
      "Grade: F\n",
      "Grade: F\n",
      "Grade: F\n",
      "Grade: F\n"
     ]
    }
   ],
   "source": [
    "newLetters = convert_to_letter(Thelist)"
   ]
  },
  {
   "cell_type": "code",
   "execution_count": 39,
   "id": "bf3c63fc",
   "metadata": {},
   "outputs": [
    {
     "name": "stdout",
     "output_type": "stream",
     "text": [
      "['B', 'F', 'F', 'D', 'F']\n"
     ]
    }
   ],
   "source": [
    "print(newLetters)"
   ]
  },
  {
   "cell_type": "markdown",
   "id": "652f0849",
   "metadata": {},
   "source": [
    "# Professors Notes\n",
    "## Start thinking like a python programmer!"
   ]
  },
  {
   "cell_type": "code",
   "execution_count": 40,
   "id": "ec9ef121",
   "metadata": {},
   "outputs": [],
   "source": [
    "random_scores = []\n",
    "for i in range(50):\n",
    "    random_scores.append(random.randrange(0,100))"
   ]
  },
  {
   "cell_type": "code",
   "execution_count": 42,
   "id": "43840ec2",
   "metadata": {},
   "outputs": [],
   "source": [
    "random_score2 = [random.randrange(0,100) for x in range(50)]"
   ]
  },
  {
   "cell_type": "code",
   "execution_count": 43,
   "id": "560408bf",
   "metadata": {},
   "outputs": [
    {
     "ename": "NameError",
     "evalue": "name 'grade_calculator' is not defined",
     "output_type": "error",
     "traceback": [
      "\u001b[0;31m---------------------------------------------------------------------------\u001b[0m",
      "\u001b[0;31mNameError\u001b[0m                                 Traceback (most recent call last)",
      "Cell \u001b[0;32mIn[43], line 3\u001b[0m\n\u001b[1;32m      1\u001b[0m letter_grades \u001b[38;5;241m=\u001b[39m []\n\u001b[1;32m      2\u001b[0m \u001b[38;5;28;01mfor\u001b[39;00m score \u001b[38;5;129;01min\u001b[39;00m random_scores:\n\u001b[0;32m----> 3\u001b[0m     my_grades \u001b[38;5;241m=\u001b[39m grade_calculator(score)\n\u001b[1;32m      4\u001b[0m     letter_grades\u001b[38;5;241m.\u001b[39mappend(my_grade)\n",
      "\u001b[0;31mNameError\u001b[0m: name 'grade_calculator' is not defined"
     ]
    }
   ],
   "source": [
    "letter_grades = []\n",
    "for score in random_scores:\n",
    "    my_grades = grade_calculator(score)\n",
    "    letter_grades.append(my_grade)"
   ]
  },
  {
   "cell_type": "code",
   "execution_count": 48,
   "id": "0f23249c",
   "metadata": {},
   "outputs": [
    {
     "data": {
      "text/plain": [
       "4"
      ]
     },
     "execution_count": 48,
     "metadata": {},
     "output_type": "execute_result"
    }
   ],
   "source": [
    "newLetters.count('A')"
   ]
  },
  {
   "cell_type": "code",
   "execution_count": null,
   "id": "f921e5e8",
   "metadata": {},
   "outputs": [],
   "source": []
  }
 ],
 "metadata": {
  "kernelspec": {
   "display_name": "Python 3 (ipykernel)",
   "language": "python",
   "name": "python3"
  },
  "language_info": {
   "codemirror_mode": {
    "name": "ipython",
    "version": 3
   },
   "file_extension": ".py",
   "mimetype": "text/x-python",
   "name": "python",
   "nbconvert_exporter": "python",
   "pygments_lexer": "ipython3",
   "version": "3.11.4"
  }
 },
 "nbformat": 4,
 "nbformat_minor": 5
}
