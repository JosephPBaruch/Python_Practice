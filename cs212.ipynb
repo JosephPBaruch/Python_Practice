{
 "cells": [
  {
   "cell_type": "code",
   "execution_count": 2,
   "id": "c35b6771",
   "metadata": {},
   "outputs": [
    {
     "name": "stdout",
     "output_type": "stream",
     "text": [
      "hello cs 212: Joseph Baruch\n"
     ]
    }
   ],
   "source": [
    "print(\"hello cs 212: Joseph Baruch\")"
   ]
  },
  {
   "cell_type": "code",
   "execution_count": 1,
   "id": "29b034d7",
   "metadata": {},
   "outputs": [],
   "source": [
    "my_list = [0] * 10"
   ]
  },
  {
   "cell_type": "code",
   "execution_count": 3,
   "id": "da4401cc",
   "metadata": {},
   "outputs": [
    {
     "name": "stdout",
     "output_type": "stream",
     "text": [
      "0\n",
      "0\n",
      "0\n",
      "0\n",
      "0\n",
      "0\n",
      "0\n",
      "0\n",
      "0\n",
      "0\n"
     ]
    }
   ],
   "source": [
    "for i in my_list:\n",
    "    print(i)"
   ]
  },
  {
   "cell_type": "code",
   "execution_count": 4,
   "id": "637c3ece",
   "metadata": {},
   "outputs": [],
   "source": [
    "import turtle"
   ]
  },
  {
   "cell_type": "code",
   "execution_count": 6,
   "id": "0998f08e",
   "metadata": {},
   "outputs": [],
   "source": [
    "t = turtle.Turtle()"
   ]
  },
  {
   "cell_type": "code",
   "execution_count": 7,
   "id": "23927e1a",
   "metadata": {},
   "outputs": [],
   "source": [
    "t.forward(90) # worked on lists, loops and modules"
   ]
  },
  {
   "cell_type": "code",
   "execution_count": 8,
   "id": "923013e8",
   "metadata": {},
   "outputs": [],
   "source": [
    "# the first module is turtle"
   ]
  },
  {
   "cell_type": "code",
   "execution_count": null,
   "id": "c8cedc6d",
   "metadata": {},
   "outputs": [],
   "source": []
  }
 ],
 "metadata": {
  "kernelspec": {
   "display_name": "Python 3 (ipykernel)",
   "language": "python",
   "name": "python3"
  },
  "language_info": {
   "codemirror_mode": {
    "name": "ipython",
    "version": 3
   },
   "file_extension": ".py",
   "mimetype": "text/x-python",
   "name": "python",
   "nbconvert_exporter": "python",
   "pygments_lexer": "ipython3",
   "version": "3.11.4"
  }
 },
 "nbformat": 4,
 "nbformat_minor": 5
}
