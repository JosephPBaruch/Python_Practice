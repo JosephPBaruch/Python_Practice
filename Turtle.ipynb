{
 "cells": [
  {
   "cell_type": "code",
   "execution_count": 3,
   "id": "c8f6c84c",
   "metadata": {},
   "outputs": [],
   "source": [
    "import turtle"
   ]
  },
  {
   "cell_type": "code",
   "execution_count": 4,
   "id": "1f9cbdb5",
   "metadata": {},
   "outputs": [],
   "source": [
    "t = turtle.Turtle()"
   ]
  },
  {
   "cell_type": "code",
   "execution_count": 5,
   "id": "ad83c8f0",
   "metadata": {},
   "outputs": [],
   "source": [
    "t.shape(\"turtle\")"
   ]
  },
  {
   "cell_type": "code",
   "execution_count": 35,
   "id": "2527a20b",
   "metadata": {},
   "outputs": [],
   "source": [
    "def shape(size, angle):\n",
    "    ran = 360/angle\n",
    "    for i in range(0, int(ran)):\n",
    "        t.forward(size)\n",
    "        t.right(angle)\n",
    "        #shape(size, angle + 2)"
   ]
  },
  {
   "cell_type": "code",
   "execution_count": 55,
   "id": "30a7af16",
   "metadata": {},
   "outputs": [],
   "source": [
    "t.clear()"
   ]
  },
  {
   "cell_type": "code",
   "execution_count": 38,
   "id": "f8e0b711",
   "metadata": {},
   "outputs": [],
   "source": [
    "shape(90, 360)"
   ]
  },
  {
   "cell_type": "code",
   "execution_count": 27,
   "id": "7329ac26",
   "metadata": {},
   "outputs": [],
   "source": [
    "t.pendown()"
   ]
  },
  {
   "cell_type": "code",
   "execution_count": 54,
   "id": "e68f72da",
   "metadata": {},
   "outputs": [],
   "source": [
    "t.home()"
   ]
  },
  {
   "cell_type": "code",
   "execution_count": 29,
   "id": "b1293f64",
   "metadata": {},
   "outputs": [],
   "source": [
    "t.setheading(90)"
   ]
  },
  {
   "cell_type": "code",
   "execution_count": 30,
   "id": "3e2e476a",
   "metadata": {},
   "outputs": [],
   "source": [
    "def pattern(size, angle, tight):\n",
    "    for i in range(0, tight):\n",
    "        shape(size, angle)\n",
    "        t.right(20)"
   ]
  },
  {
   "cell_type": "code",
   "execution_count": 46,
   "id": "66ad900b",
   "metadata": {},
   "outputs": [],
   "source": [
    "def draw_shapes(my_turtle, side_length, num_side):\n",
    "    shape_angle = 360 / num_side\n",
    "    for i in range(num_side):\n",
    "        my_turtle.forward(side_length)\n",
    "        my_turtle.right(shape_angle)"
   ]
  },
  {
   "cell_type": "code",
   "execution_count": 50,
   "id": "dccbf769",
   "metadata": {},
   "outputs": [],
   "source": [
    "draw_shapes( t, 1, 359)"
   ]
  },
  {
   "cell_type": "code",
   "execution_count": 59,
   "id": "cde2e4fb",
   "metadata": {},
   "outputs": [],
   "source": [
    "def draw_circle( my_turtle, radius):\n",
    "    circum = 2 * 3.14 * radius\n",
    "    circle_length = circum / 360\n",
    "    draw_shapes(my_turtle, circle_length, 360)"
   ]
  },
  {
   "cell_type": "code",
   "execution_count": 62,
   "id": "c721b6e4",
   "metadata": {},
   "outputs": [],
   "source": [
    "draw_circle(t, 100)"
   ]
  },
  {
   "cell_type": "code",
   "execution_count": 63,
   "id": "7f980854",
   "metadata": {},
   "outputs": [],
   "source": [
    "t.goto(0, 15)"
   ]
  },
  {
   "cell_type": "code",
   "execution_count": null,
   "id": "f02fe0cf",
   "metadata": {},
   "outputs": [],
   "source": []
  }
 ],
 "metadata": {
  "kernelspec": {
   "display_name": "Python 3 (ipykernel)",
   "language": "python",
   "name": "python3"
  },
  "language_info": {
   "codemirror_mode": {
    "name": "ipython",
    "version": 3
   },
   "file_extension": ".py",
   "mimetype": "text/x-python",
   "name": "python",
   "nbconvert_exporter": "python",
   "pygments_lexer": "ipython3",
   "version": "3.11.4"
  }
 },
 "nbformat": 4,
 "nbformat_minor": 5
}
