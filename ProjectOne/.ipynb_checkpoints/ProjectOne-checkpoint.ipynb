{
 "cells": [
  {
   "cell_type": "code",
   "execution_count": 24,
   "id": "5fe39a39",
   "metadata": {},
   "outputs": [],
   "source": [
    "import requests\n",
    "import pandas as pd"
   ]
  },
  {
   "cell_type": "code",
   "execution_count": 25,
   "id": "ef6b874e",
   "metadata": {},
   "outputs": [],
   "source": [
    "url = 'https://www.alphavantage.co/query?'\n",
    "key = '&apikey=39G28MAGU76LGPYW'\n",
    "function = 'function=TIME_SERIES_MONTHLY'\n",
    "symbol = '&symbol=IBM'\n",
    "\n",
    "totalURL = url + function + symbol + key\n",
    "x = requests.get( totalURL ).json()"
   ]
  },
  {
   "cell_type": "code",
   "execution_count": 26,
   "id": "c3d39f95",
   "metadata": {},
   "outputs": [
    {
     "name": "stdout",
     "output_type": "stream",
     "text": [
      "dict_keys(['Meta Data', 'Monthly Time Series'])\n"
     ]
    }
   ],
   "source": [
    "print(x.keys())\n",
    "# print(x['Monthly Time Series'])"
   ]
  },
  {
   "cell_type": "code",
   "execution_count": 27,
   "id": "a1560b72",
   "metadata": {},
   "outputs": [],
   "source": [
    "values = pd.DataFrame(x[\"Monthly Time Series\"])"
   ]
  },
  {
   "cell_type": "code",
   "execution_count": 28,
   "id": "1675ab34",
   "metadata": {},
   "outputs": [],
   "source": [
    "new = values.transpose()"
   ]
  },
  {
   "cell_type": "code",
   "execution_count": 29,
   "id": "1baf278e",
   "metadata": {},
   "outputs": [],
   "source": [
    "new.head()\n",
    "new['index'] = range(1, len(new) + 1)"
   ]
  },
  {
   "cell_type": "code",
   "execution_count": 30,
   "id": "d5fa06c1",
   "metadata": {},
   "outputs": [],
   "source": [
    "dates = list(new.index.values)\n",
    "dates.reverse()"
   ]
  },
  {
   "cell_type": "code",
   "execution_count": 31,
   "id": "d239106c",
   "metadata": {},
   "outputs": [
    {
     "data": {
      "text/html": [
       "<div>\n",
       "<style scoped>\n",
       "    .dataframe tbody tr th:only-of-type {\n",
       "        vertical-align: middle;\n",
       "    }\n",
       "\n",
       "    .dataframe tbody tr th {\n",
       "        vertical-align: top;\n",
       "    }\n",
       "\n",
       "    .dataframe thead th {\n",
       "        text-align: right;\n",
       "    }\n",
       "</style>\n",
       "<table border=\"1\" class=\"dataframe\">\n",
       "  <thead>\n",
       "    <tr style=\"text-align: right;\">\n",
       "      <th></th>\n",
       "      <th>1. open</th>\n",
       "      <th>2. high</th>\n",
       "      <th>3. low</th>\n",
       "      <th>4. close</th>\n",
       "      <th>5. volume</th>\n",
       "      <th>index</th>\n",
       "    </tr>\n",
       "  </thead>\n",
       "  <tbody>\n",
       "    <tr>\n",
       "      <th>2023-10-27</th>\n",
       "      <td>140.0400</td>\n",
       "      <td>144.7000</td>\n",
       "      <td>135.8700</td>\n",
       "      <td>142.5200</td>\n",
       "      <td>83590749</td>\n",
       "      <td>1</td>\n",
       "    </tr>\n",
       "    <tr>\n",
       "      <th>2023-09-29</th>\n",
       "      <td>147.2600</td>\n",
       "      <td>151.9299</td>\n",
       "      <td>139.6100</td>\n",
       "      <td>140.3000</td>\n",
       "      <td>82806487</td>\n",
       "      <td>2</td>\n",
       "    </tr>\n",
       "    <tr>\n",
       "      <th>2023-08-31</th>\n",
       "      <td>144.2500</td>\n",
       "      <td>147.7275</td>\n",
       "      <td>139.7600</td>\n",
       "      <td>146.8300</td>\n",
       "      <td>84274205</td>\n",
       "      <td>3</td>\n",
       "    </tr>\n",
       "    <tr>\n",
       "      <th>2023-07-31</th>\n",
       "      <td>133.4200</td>\n",
       "      <td>144.6050</td>\n",
       "      <td>131.5500</td>\n",
       "      <td>144.1800</td>\n",
       "      <td>85778938</td>\n",
       "      <td>4</td>\n",
       "    </tr>\n",
       "    <tr>\n",
       "      <th>2023-06-30</th>\n",
       "      <td>128.4400</td>\n",
       "      <td>139.4690</td>\n",
       "      <td>127.7800</td>\n",
       "      <td>133.8100</td>\n",
       "      <td>100722016</td>\n",
       "      <td>5</td>\n",
       "    </tr>\n",
       "  </tbody>\n",
       "</table>\n",
       "</div>"
      ],
      "text/plain": [
       "             1. open   2. high    3. low  4. close  5. volume  index\n",
       "2023-10-27  140.0400  144.7000  135.8700  142.5200   83590749      1\n",
       "2023-09-29  147.2600  151.9299  139.6100  140.3000   82806487      2\n",
       "2023-08-31  144.2500  147.7275  139.7600  146.8300   84274205      3\n",
       "2023-07-31  133.4200  144.6050  131.5500  144.1800   85778938      4\n",
       "2023-06-30  128.4400  139.4690  127.7800  133.8100  100722016      5"
      ]
     },
     "execution_count": 31,
     "metadata": {},
     "output_type": "execute_result"
    }
   ],
   "source": [
    "new.head()"
   ]
  },
  {
   "cell_type": "code",
   "execution_count": 54,
   "id": "22964b36",
   "metadata": {},
   "outputs": [
    {
     "data": {
      "text/plain": [
       "numpy.int64"
      ]
     },
     "execution_count": 54,
     "metadata": {},
     "output_type": "execute_result"
    }
   ],
   "source": [
    "values = new[\"1. open\"].to_numpy()\n",
    "def convert_strings_to_floats(input_array):\n",
    "    output_array = []\n",
    "    for element in input_array:\n",
    "        converted_float = float(element)\n",
    "        output_array.append(converted_float)\n",
    "    return output_array\n",
    "input_array = ['1.1', '1.5', '2.7', '8.9']\n",
    "output_array = convert_strings_to_floats(values)\n",
    "\n",
    "type(new[\"index\"][1])"
   ]
  },
  {
   "cell_type": "code",
   "execution_count": 62,
   "id": "98de9f0b",
   "metadata": {},
   "outputs": [
    {
     "data": {
      "image/png": "[encoded data removed]",
      "text/plain": [
       "<Figure size 200x200 with 1 Axes>"
      ]
     },
     "metadata": {},
     "output_type": "display_data"
    }
   ],
   "source": [
    "import matplotlib.pyplot as plt\n",
    "import numpy as np\n",
    "\n",
    "plt.style.use('_mpl-gallery')\n",
    "\n",
    "# make data\n",
    "y = output_array\n",
    "x = new[\"index\"]\n",
    "\n",
    "# plot\n",
    "fig, ax = plt.subplots()\n",
    "\n",
    "ax.plot(x, y, linewidth=1.0)\n",
    "\n",
    "ax.set(xlim=(0, 287), xticks=np.arange(1, 287),\n",
    "       ylim=(min(output_array), max(output_array)), yticks=np.arange(min(output_array), max(output_array)))\n",
    "\n",
    "plt.show()"
   ]
  },
  {
   "cell_type": "code",
   "execution_count": null,
   "id": "3ae90486",
   "metadata": {},
   "outputs": [],
   "source": []
  }
 ],
 "metadata": {
  "kernelspec": {
   "display_name": "Python 3 (ipykernel)",
   "language": "python",
   "name": "python3"
  },
  "language_info": {
   "codemirror_mode": {
    "name": "ipython",
    "version": 3
   },
   "file_extension": ".py",
   "mimetype": "text/x-python",
   "name": "python",
   "nbconvert_exporter": "python",
   "pygments_lexer": "ipython3",
   "version": "3.11.4"
  }
 },
 "nbformat": 4,
 "nbformat_minor": 5
}
