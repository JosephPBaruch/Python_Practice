{
 "cells": [
  {
   "cell_type": "code",
   "execution_count": 24,
   "id": "5fe39a39",
   "metadata": {},
   "outputs": [
    {
     "data": {
      "text/plain": [
       "dict"
      ]
     },
     "execution_count": 24,
     "metadata": {},
     "output_type": "execute_result"
    }
   ],
   "source": [
    "import requests\n",
    "import pandas as pd\n",
    "\n",
    "url = 'https://accounts.spotify.com/authorize?'\n",
    "id = '1c32725e5a4a4053939d653ebbad3e30'\n",
    "response_type = 'code'\n",
    "git_url = 'https://api.github.com/users/JosephPBaruch'\n",
    "nat_dept = 'https://api.fiscaldata.treasury.gov/services/api/fiscal_service'\n",
    "\n",
    "x = requests.get(nat_dept + '/v2/accounting/od/avg_interest_rates')\n",
    "\n",
    "y = x.json()\n",
    "\n",
    "type(y)\n"
   ]
  },
  {
   "cell_type": "code",
   "execution_count": 26,
   "id": "c3d39f95",
   "metadata": {},
   "outputs": [
    {
     "name": "stdout",
     "output_type": "stream",
     "text": [
      "dict_keys(['data', 'meta', 'links'])\n"
     ]
    }
   ],
   "source": [
    "print(y.keys())"
   ]
  },
  {
   "cell_type": "code",
   "execution_count": 28,
   "id": "42875862",
   "metadata": {},
   "outputs": [],
   "source": [
    "df = pd.DataFrame(y['data'])"
   ]
  },
  {
   "cell_type": "code",
   "execution_count": 30,
   "id": "a1560b72",
   "metadata": {},
   "outputs": [
    {
     "name": "stdout",
     "output_type": "stream",
     "text": [
      "   record_date security_type_desc                     security_desc  \\\n",
      "0   2001-01-31         Marketable                    Treasury Notes   \n",
      "1   2001-01-31         Marketable                    Treasury Bonds   \n",
      "2   2001-01-31         Marketable  Treasury Inflation-Indexed Notes   \n",
      "3   2001-01-31         Marketable  Treasury Inflation-Indexed Bonds   \n",
      "4   2001-01-31         Marketable            Federal Financing Bank   \n",
      "..         ...                ...                               ...   \n",
      "95  2001-07-31         Marketable                    Treasury Notes   \n",
      "96  2001-07-31         Marketable                    Treasury Bonds   \n",
      "97  2001-07-31         Marketable  Treasury Inflation-Indexed Notes   \n",
      "98  2001-07-31         Marketable  Treasury Inflation-Indexed Bonds   \n",
      "99  2001-07-31         Marketable            Federal Financing Bank   \n",
      "\n",
      "   avg_interest_rate_amt src_line_nbr record_fiscal_year  \\\n",
      "0                  6.096            2               2001   \n",
      "1                  8.450            3               2001   \n",
      "2                  3.772            4               2001   \n",
      "3                  3.866            5               2001   \n",
      "4                  8.917            6               2001   \n",
      "..                   ...          ...                ...   \n",
      "95                 5.975            2               2001   \n",
      "96                 8.359            3               2001   \n",
      "97                 3.756            4               2001   \n",
      "98                 3.866            5               2001   \n",
      "99                 8.917            6               2001   \n",
      "\n",
      "   record_fiscal_quarter record_calendar_year record_calendar_quarter  \\\n",
      "0                      2                 2001                       1   \n",
      "1                      2                 2001                       1   \n",
      "2                      2                 2001                       1   \n",
      "3                      2                 2001                       1   \n",
      "4                      2                 2001                       1   \n",
      "..                   ...                  ...                     ...   \n",
      "95                     4                 2001                       3   \n",
      "96                     4                 2001                       3   \n",
      "97                     4                 2001                       3   \n",
      "98                     4                 2001                       3   \n",
      "99                     4                 2001                       3   \n",
      "\n",
      "   record_calendar_month record_calendar_day  \n",
      "0                     01                  31  \n",
      "1                     01                  31  \n",
      "2                     01                  31  \n",
      "3                     01                  31  \n",
      "4                     01                  31  \n",
      "..                   ...                 ...  \n",
      "95                    07                  31  \n",
      "96                    07                  31  \n",
      "97                    07                  31  \n",
      "98                    07                  31  \n",
      "99                    07                  31  \n",
      "\n",
      "[100 rows x 11 columns]\n"
     ]
    }
   ],
   "source": [
    "print(df)"
   ]
  },
  {
   "cell_type": "code",
   "execution_count": null,
   "id": "1675ab34",
   "metadata": {},
   "outputs": [],
   "source": []
  }
 ],
 "metadata": {
  "kernelspec": {
   "display_name": "Python 3 (ipykernel)",
   "language": "python",
   "name": "python3"
  },
  "language_info": {
   "codemirror_mode": {
    "name": "ipython",
    "version": 3
   },
   "file_extension": ".py",
   "mimetype": "text/x-python",
   "name": "python",
   "nbconvert_exporter": "python",
   "pygments_lexer": "ipython3",
   "version": "3.11.4"
  }
 },
 "nbformat": 4,
 "nbformat_minor": 5
}
