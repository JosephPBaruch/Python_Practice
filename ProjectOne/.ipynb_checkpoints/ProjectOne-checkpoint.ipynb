{
 "cells": [
  {
   "cell_type": "code",
   "execution_count": 1,
   "id": "5fe39a39",
   "metadata": {},
   "outputs": [
    {
     "data": {
      "text/plain": [
       "dict"
      ]
     },
     "execution_count": 1,
     "metadata": {},
     "output_type": "execute_result"
    }
   ],
   "source": [
    "import requests\n",
    "import pandas as pd # 39G28MAGU76LGPYW\n",
    "\n",
    "url = 'https://www.alphavantage.co/query?'\n",
    "key = '&apikey=39G28MAGU76LGPYW'\n",
    "function = 'function=TIME_SERIES_INTRADAY'\n",
    "symbol = '&symbol=IBM'\n",
    "interval = '&interval=5min'\n",
    "\n",
    "totalURL = url + function + symbol + interval + key\n",
    "\n",
    "x = requests.get( totalURL )\n",
    "\n",
    "y = x.json()\n",
    "\n",
    "type(y)\n"
   ]
  },
  {
   "cell_type": "code",
   "execution_count": 2,
   "id": "c3d39f95",
   "metadata": {},
   "outputs": [
    {
     "name": "stdout",
     "output_type": "stream",
     "text": [
      "dict_keys(['Meta Data', 'Time Series (5min)'])\n"
     ]
    }
   ],
   "source": [
    "print(y.keys())"
   ]
  },
  {
   "cell_type": "code",
   "execution_count": 12,
   "id": "a1560b72",
   "metadata": {},
   "outputs": [],
   "source": [
    "values = pd.DataFrame(y[\"Time Series (5min)\"])"
   ]
  },
  {
   "cell_type": "code",
   "execution_count": 14,
   "id": "1675ab34",
   "metadata": {},
   "outputs": [],
   "source": [
    "new = values.transpose()"
   ]
  },
  {
   "cell_type": "code",
   "execution_count": 16,
   "id": "22bb2fc7",
   "metadata": {},
   "outputs": [
    {
     "name": "stdout",
     "output_type": "stream",
     "text": [
      "                      1. open   2. high    3. low  4. close 5. volume\n",
      "2023-10-25 19:55:00  139.2000  139.2000  139.0100  139.0100      1216\n",
      "2023-10-25 19:50:00  139.2500  139.3000  139.2500  139.3000       565\n",
      "2023-10-25 19:45:00  139.2700  139.3000  139.2500  139.2500       302\n",
      "2023-10-25 19:40:00  139.3800  139.5000  139.1600  139.2000        54\n",
      "2023-10-25 19:35:00  139.1600  139.1600  139.1600  139.1600        10\n",
      "...                       ...       ...       ...       ...       ...\n",
      "2023-10-25 12:00:00  137.6200  137.6400  137.5100  137.5400     46561\n",
      "2023-10-25 11:55:00  137.6650  137.6950  137.5300  137.6500     46027\n",
      "2023-10-25 11:50:00  137.6300  137.7100  137.5700  137.6600     37919\n",
      "2023-10-25 11:45:00  137.7200  137.8600  137.5900  137.6400     34928\n",
      "2023-10-25 11:40:00  137.7500  137.7500  137.5600  137.7300     58776\n",
      "\n",
      "[100 rows x 5 columns]\n"
     ]
    }
   ],
   "source": [
    "print(new)"
   ]
  },
  {
   "cell_type": "code",
   "execution_count": null,
   "id": "9547fe5b",
   "metadata": {},
   "outputs": [],
   "source": []
  }
 ],
 "metadata": {
  "kernelspec": {
   "display_name": "Python 3 (ipykernel)",
   "language": "python",
   "name": "python3"
  },
  "language_info": {
   "codemirror_mode": {
    "name": "ipython",
    "version": 3
   },
   "file_extension": ".py",
   "mimetype": "text/x-python",
   "name": "python",
   "nbconvert_exporter": "python",
   "pygments_lexer": "ipython3",
   "version": "3.11.4"
  }
 },
 "nbformat": 4,
 "nbformat_minor": 5
}
