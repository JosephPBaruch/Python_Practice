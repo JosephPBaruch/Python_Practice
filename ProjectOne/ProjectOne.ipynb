# Project One: IBM Stock Prices

# Import a necessary libraries
import requests
import pandas as pd
import matplotlib.pyplot as plt
import numpy as np

# HTTP Request to API  for data
url = 'https://www.alphavantage.co/query?'
key = '&apikey=39G28MAGU76LGPYW'
function = 'function=TIME_SERIES_MONTHLY'
symbol = '&symbol=IBM' # Specifies the stock for IBM Company

totalURL = url + function + symbol + key # Preparing string query URL 
data = requests.get( totalURL ).json() #

print(data.keys()) # finding actual data (In Monthly Time Series)

data_in_df = pd.DataFrame(data["Monthly Time Series"]) # converting to dataframe

IBM_data = data_in_df.transpose() # switching X and Y for proper format

IBM_data['index'] = range(1, len(IBM_data) + 1) # creating new column for index's

open_val = IBM_data["1. open"].to_numpy() # Convert to array
open_val = np.flip(open_val) # flip values in the array so they are old -> new
# Convert the array of strings into an array of floats for better plotting in matplotlib
def convert_strings_to_floats(input_array):
    output_array = []
    for element in input_array:
        converted_float = float(element)
        output_array.append(converted_float)
    return output_array
input_array = ['1.1', '1.5', '2.7', '8.9']
values_as_float = convert_strings_to_floats(values)

# Plot the open values for IBM using matplotlib 
plt.style.use('_mpl-gallery')

# plot
fig, ax = plt.subplots()

ax.plot(IBM_data["index"], values_as_float, linewidth=1.0)

ax.set(xlim=(0, 287), xticks=np.arange(1, 287),
       ylim=(min(output_array), max(output_array)), yticks=np.arange(min(output_array), max(output_array)))

plt.show()