{
 "cells": [
  {
   "cell_type": "markdown",
   "id": "4cd94676",
   "metadata": {},
   "source": [
    "# Lists Continued, Introduction to Dictionaries"
   ]
  },
  {
   "cell_type": "markdown",
   "id": "39a2aa0b",
   "metadata": {},
   "source": [
    "## Data Visualization"
   ]
  },
  {
   "cell_type": "code",
   "execution_count": 1,
   "id": "bf21eeee",
   "metadata": {},
   "outputs": [],
   "source": [
    "import random # remember this is how you get random numbers"
   ]
  },
  {
   "cell_type": "code",
   "execution_count": 2,
   "id": "a0946382",
   "metadata": {},
   "outputs": [],
   "source": [
    "random_num = random.randrange(0, 100)"
   ]
  },
  {
   "cell_type": "code",
   "execution_count": 3,
   "id": "97076159",
   "metadata": {},
   "outputs": [
    {
     "name": "stdout",
     "output_type": "stream",
     "text": [
      "30\n"
     ]
    }
   ],
   "source": [
    "print(random_num)"
   ]
  },
  {
   "cell_type": "code",
   "execution_count": 4,
   "id": "30869c89",
   "metadata": {},
   "outputs": [],
   "source": [
    "# pip is the default python package manager"
   ]
  },
  {
   "cell_type": "code",
   "execution_count": 8,
   "id": "626b95a8",
   "metadata": {},
   "outputs": [],
   "source": [
    "# IN CLI \n",
    "# python3.10 im venv venv/\n",
    "# source venv/bin/activate\n",
    "# pip freeze"
   ]
  },
  {
   "cell_type": "markdown",
   "id": "a25f7247",
   "metadata": {},
   "source": [
    "# Matplotlib and Dictionaries \n",
    "## I will be taking notes no this an not acutally have the code working"
   ]
  },
  {
   "cell_type": "code",
   "execution_count": 9,
   "id": "290c7cdb",
   "metadata": {},
   "outputs": [],
   "source": [
    "import matplotlib.pyplot as plt"
   ]
  },
  {
   "cell_type": "code",
   "execution_count": null,
   "id": "096c831f",
   "metadata": {},
   "outputs": [],
   "source": [
    "plt.figure()\n",
    "plt.bar(grade_options, count_list)\n",
    "plt.show()"
   ]
  },
  {
   "cell_type": "code",
   "execution_count": null,
   "id": "287341b2",
   "metadata": {},
   "outputs": [],
   "source": []
  }
 ],
 "metadata": {
  "kernelspec": {
   "display_name": "Python 3 (ipykernel)",
   "language": "python",
   "name": "python3"
  },
  "language_info": {
   "codemirror_mode": {
    "name": "ipython",
    "version": 3
   },
   "file_extension": ".py",
   "mimetype": "text/x-python",
   "name": "python",
   "nbconvert_exporter": "python",
   "pygments_lexer": "ipython3",
   "version": "3.11.4"
  }
 },
 "nbformat": 4,
 "nbformat_minor": 5
}
