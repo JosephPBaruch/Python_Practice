{
 "cells": [
  {
   "cell_type": "markdown",
   "id": "91d0fca2",
   "metadata": {},
   "source": [
    "# GUI"
   ]
  },
  {
   "cell_type": "code",
   "execution_count": 13,
   "id": "8faf9d69",
   "metadata": {},
   "outputs": [],
   "source": [
    "import tkinter as tk\n",
    "from account import Account"
   ]
  },
  {
   "cell_type": "code",
   "execution_count": null,
   "id": "eae0ca0c",
   "metadata": {},
   "outputs": [],
   "source": [
    "# create a window\n",
    "root = tk.Tk()\n",
    "\n",
    "# create a window\n",
    "root.geometry(\"400x400\")\n",
    "root.title(\"Banking Application\")\n",
    "\n",
    "# creating our GUI components\n",
    "balance_label = tk.Label(root, text=\"Balance: \")\n",
    "balance_label.pack()\n",
    "\n",
    "account_owner_label = tk.Label(root, text=\"Account Owner: \")\n",
    "account_owner_label.pack()\n",
    "\n",
    "account_number_label = tk.Label(root, text=\"Account Number: \")\n",
    "account_number_label.pack()\n",
    "\n",
    "#establish persistent window\n",
    "root.mainloop()"
   ]
  },
  {
   "cell_type": "code",
   "execution_count": null,
   "id": "bad76d6b",
   "metadata": {},
   "outputs": [],
   "source": []
  }
 ],
 "metadata": {
  "kernelspec": {
   "display_name": "Python 3 (ipykernel)",
   "language": "python",
   "name": "python3"
  },
  "language_info": {
   "codemirror_mode": {
    "name": "ipython",
    "version": 3
   },
   "file_extension": ".py",
   "mimetype": "text/x-python",
   "name": "python",
   "nbconvert_exporter": "python",
   "pygments_lexer": "ipython3",
   "version": "3.11.4"
  }
 },
 "nbformat": 4,
 "nbformat_minor": 5
}
