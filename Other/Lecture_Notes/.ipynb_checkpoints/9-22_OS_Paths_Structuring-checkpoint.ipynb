{
 "cells": [
  {
   "cell_type": "markdown",
   "id": "6bc08490",
   "metadata": {},
   "source": [
    "# 9/22/2023: OS, Paths, Structuring a Project"
   ]
  },
  {
   "cell_type": "code",
   "execution_count": 1,
   "id": "fa61ad0a",
   "metadata": {},
   "outputs": [],
   "source": [
    "import os\n",
    "import shutil\n",
    "import pandas as pd\n",
    "import statistics as st"
   ]
  },
  {
   "cell_type": "code",
   "execution_count": 29,
   "id": "83dae9d5",
   "metadata": {},
   "outputs": [],
   "source": [
    "cwd = os.getcwd() # Current working Directory"
   ]
  },
  {
   "cell_type": "code",
   "execution_count": 6,
   "id": "62d3d5ae",
   "metadata": {},
   "outputs": [],
   "source": [
    "# os.chdir() # Change directory"
   ]
  },
  {
   "cell_type": "code",
   "execution_count": 30,
   "id": "047f5f69",
   "metadata": {},
   "outputs": [
    {
     "name": "stdout",
     "output_type": "stream",
     "text": [
      "/Users/joseph.baruch/REPO/Practical_Python/Lecture_Notes/cs212_examples\n"
     ]
    }
   ],
   "source": [
    "print(cwd)"
   ]
  },
  {
   "cell_type": "code",
   "execution_count": 9,
   "id": "94f123b1",
   "metadata": {},
   "outputs": [],
   "source": [
    "# relative path ( remember you can use .. to go back to the previous directory) (parent directory)"
   ]
  },
  {
   "cell_type": "code",
   "execution_count": 12,
   "id": "a910284d",
   "metadata": {},
   "outputs": [],
   "source": [
    "os.mkdir('cs212_examples') # make a directory"
   ]
  },
  {
   "cell_type": "code",
   "execution_count": 25,
   "id": "39b6b883",
   "metadata": {},
   "outputs": [],
   "source": [
    "file_path = os.path.join(cwd, '../')"
   ]
  },
  {
   "cell_type": "code",
   "execution_count": 26,
   "id": "e704d1e9",
   "metadata": {},
   "outputs": [
    {
     "data": {
      "text/plain": [
       "'/Users/joseph.baruch/REPO/Practical_Python/Lecture_Notes/cs212_examples'"
      ]
     },
     "execution_count": 26,
     "metadata": {},
     "output_type": "execute_result"
    }
   ],
   "source": [
    "os.getcwd()"
   ]
  },
  {
   "cell_type": "code",
   "execution_count": 27,
   "id": "b924c37e",
   "metadata": {},
   "outputs": [
    {
     "data": {
      "text/plain": [
       "'/Users/joseph.baruch/REPO/Practical_Python/Lecture_Notes/cs212_examples'"
      ]
     },
     "execution_count": 27,
     "metadata": {},
     "output_type": "execute_result"
    }
   ],
   "source": [
    "os.getcwd()"
   ]
  },
  {
   "cell_type": "code",
   "execution_count": 35,
   "id": "bca5b2f3",
   "metadata": {},
   "outputs": [],
   "source": [
    "rain_fall = pd.read_csv(os.path.join(cwd, '../test.csv'), header=2)"
   ]
  },
  {
   "cell_type": "code",
   "execution_count": 36,
   "id": "640b71ed",
   "metadata": {},
   "outputs": [
    {
     "data": {
      "text/plain": [
       "Index(['Site Id', 'Date', 'Time', 'PREC.I-1 (in) '], dtype='object')"
      ]
     },
     "execution_count": 36,
     "metadata": {},
     "output_type": "execute_result"
    }
   ],
   "source": [
    "rain_fall.columns"
   ]
  },
  {
   "cell_type": "code",
   "execution_count": 37,
   "id": "b06daa7c",
   "metadata": {},
   "outputs": [],
   "source": [
    "col_list = list(rain_fall.columns)"
   ]
  },
  {
   "cell_type": "code",
   "execution_count": 38,
   "id": "7cf0b09b",
   "metadata": {},
   "outputs": [
    {
     "name": "stdout",
     "output_type": "stream",
     "text": [
      "['Site Id', 'Date', 'Time', 'PREC.I-1 (in) ']\n"
     ]
    }
   ],
   "source": [
    "print(col_list)"
   ]
  },
  {
   "cell_type": "code",
   "execution_count": 42,
   "id": "343e3846",
   "metadata": {},
   "outputs": [],
   "source": [
    "rain_fall_sub = rain_fall[(rain_fall['PREC.I-1 (in) '] == 35.9)] # subset based on conditions"
   ]
  },
  {
   "cell_type": "code",
   "execution_count": 53,
   "id": "1ea60f7e",
   "metadata": {},
   "outputs": [],
   "source": [
    "rain_fall_sub.to_csv('sub.csv')"
   ]
  },
  {
   "cell_type": "code",
   "execution_count": 45,
   "id": "97e102f7",
   "metadata": {},
   "outputs": [
    {
     "data": {
      "text/plain": [
       "'/Users/joseph.baruch/REPO/Practical_Python/Lecture_Notes/cs212_examples'"
      ]
     },
     "execution_count": 45,
     "metadata": {},
     "output_type": "execute_result"
    }
   ],
   "source": [
    "os.getcwd()"
   ]
  },
  {
   "cell_type": "code",
   "execution_count": 60,
   "id": "6646400a",
   "metadata": {},
   "outputs": [
    {
     "ename": "AttributeError",
     "evalue": "'list' object has no attribute 'savefig'",
     "output_type": "error",
     "traceback": [
      "\u001b[0;31m---------------------------------------------------------------------------\u001b[0m",
      "\u001b[0;31mAttributeError\u001b[0m                            Traceback (most recent call last)",
      "Cell \u001b[0;32mIn[60], line 4\u001b[0m\n\u001b[1;32m      2\u001b[0m plt\u001b[38;5;241m.\u001b[39mfigure()\n\u001b[1;32m      3\u001b[0m figure \u001b[38;5;241m=\u001b[39m plt\u001b[38;5;241m.\u001b[39mplot(rain_fall[\u001b[38;5;124m'\u001b[39m\u001b[38;5;124mDate\u001b[39m\u001b[38;5;124m'\u001b[39m], rain_fall[\u001b[38;5;124m'\u001b[39m\u001b[38;5;124mPREC.I-1 (in) \u001b[39m\u001b[38;5;124m'\u001b[39m ])\n\u001b[0;32m----> 4\u001b[0m figure\u001b[38;5;241m.\u001b[39msavefig(os\u001b[38;5;241m.\u001b[39mpath\u001b[38;5;241m.\u001b[39mjoin(cwd, \u001b[38;5;124m'\u001b[39m\u001b[38;5;124mtest.png\u001b[39m\u001b[38;5;124m'\u001b[39m))\n",
      "\u001b[0;31mAttributeError\u001b[0m: 'list' object has no attribute 'savefig'"
     ]
    },
    {
     "data": {
      "image/png": "[encoded data removed]",
      "text/plain": [
       "<Figure size 640x480 with 1 Axes>"
      ]
     },
     "metadata": {},
     "output_type": "display_data"
    }
   ],
   "source": [
    "import matplotlib.pyplot as plt\n",
    "plt.figure()\n",
    "figure = plt.plot(rain_fall['Date'], rain_fall['PREC.I-1 (in) '])\n",
    "figure.savefig(os.path.join(cwd, 'test.png'))"
   ]
  },
  {
   "cell_type": "code",
   "execution_count": null,
   "id": "01755842",
   "metadata": {},
   "outputs": [],
   "source": []
  }
 ],
 "metadata": {
  "kernelspec": {
   "display_name": "Python 3 (ipykernel)",
   "language": "python",
   "name": "python3"
  },
  "language_info": {
   "codemirror_mode": {
    "name": "ipython",
    "version": 3
   },
   "file_extension": ".py",
   "mimetype": "text/x-python",
   "name": "python",
   "nbconvert_exporter": "python",
   "pygments_lexer": "ipython3",
   "version": "3.11.4"
  }
 },
 "nbformat": 4,
 "nbformat_minor": 5
}
