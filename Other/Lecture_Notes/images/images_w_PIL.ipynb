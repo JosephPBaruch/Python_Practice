{
 "cells": [
  {
   "cell_type": "code",
   "execution_count": 55,
   "id": "d063fab6",
   "metadata": {},
   "outputs": [],
   "source": [
    "import numpy as np\n",
    "import os\n",
    "from PIL import Image"
   ]
  },
  {
   "cell_type": "code",
   "execution_count": 56,
   "id": "6063fa6e",
   "metadata": {},
   "outputs": [],
   "source": [
    "img_array = np.full((256, 256, 3), 255, dtype=np.uint8) # creating array"
   ]
  },
  {
   "cell_type": "code",
   "execution_count": 57,
   "id": "9848abb1",
   "metadata": {},
   "outputs": [],
   "source": [
    "# img_array.shape\n",
    "img = PIL.Image.fromarray(img_array, \"RGB\") # creating Image"
   ]
  },
  {
   "cell_type": "code",
   "execution_count": 58,
   "id": "705e103a",
   "metadata": {},
   "outputs": [],
   "source": [
    "color_dict = {\n",
    "    0 : 48, \n",
    "    1 : 213, \n",
    "    2 : 200, \n",
    "}"
   ]
  },
  {
   "cell_type": "code",
   "execution_count": 59,
   "id": "919d813e",
   "metadata": {},
   "outputs": [],
   "source": [
    "# 48, 213, 200 ( Color: Light blue )\n",
    "for i in range(256):\n",
    "    for key in color_dict.keys():\n",
    "        color = color_dict.get(key)\n",
    "        img_array[i, i, key] = color\n",
    "        img_array[i, 255 - i, key] = color\n",
    "\n",
    "img = PIL.Image.fromarray(img_array, \"RGB\") # creating Image"
   ]
  },
  {
   "cell_type": "code",
   "execution_count": 60,
   "id": "a022b093",
   "metadata": {},
   "outputs": [],
   "source": [
    "# now that array is image, we have more methods to utilize\n",
    "img.getpixel((0, 0)) \n",
    "img.putpixel((0, 0), (255, 0, 0))"
   ]
  },
  {
   "cell_type": "code",
   "execution_count": 61,
   "id": "7c321a9a",
   "metadata": {},
   "outputs": [],
   "source": [
    "img.show() # display image   "
   ]
  },
  {
   "cell_type": "code",
   "execution_count": 62,
   "id": "8d8a22a5",
   "metadata": {},
   "outputs": [],
   "source": [
    "img.save('test_image_cs212.png', 'PNG')"
   ]
  },
  {
   "cell_type": "code",
   "execution_count": null,
   "id": "8f62aaa3",
   "metadata": {},
   "outputs": [],
   "source": []
  }
 ],
 "metadata": {
  "kernelspec": {
   "display_name": "Python 3 (ipykernel)",
   "language": "python",
   "name": "python3"
  },
  "language_info": {
   "codemirror_mode": {
    "name": "ipython",
    "version": 3
   },
   "file_extension": ".py",
   "mimetype": "text/x-python",
   "name": "python",
   "nbconvert_exporter": "python",
   "pygments_lexer": "ipython3",
   "version": "3.11.4"
  }
 },
 "nbformat": 4,
 "nbformat_minor": 5
}
