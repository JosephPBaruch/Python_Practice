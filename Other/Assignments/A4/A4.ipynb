{
 "cells": [
  {
   "cell_type": "markdown",
   "id": "dd89c2fd",
   "metadata": {},
   "source": [
    "# Assignment 4"
   ]
  },
  {
   "cell_type": "code",
   "execution_count": 119,
   "id": "8e90dc72",
   "metadata": {},
   "outputs": [],
   "source": [
    "import pandas as pd\n",
    "import matplotlib.pyplot as plt\n",
    "import numpy as np\n",
    "import math\n",
    "bag_df = pd.read_csv('baggage.csv')"
   ]
  },
  {
   "cell_type": "code",
   "execution_count": 122,
   "id": "239261d9",
   "metadata": {},
   "outputs": [
    {
     "name": "stdout",
     "output_type": "stream",
     "text": [
      "['American Eagle' 'Hawaiian' 'United']\n"
     ]
    }
   ],
   "source": [
    "print(bag_df['Airline'].unique())"
   ]
  },
  {
   "cell_type": "code",
   "execution_count": 123,
   "id": "a1ddc705",
   "metadata": {},
   "outputs": [],
   "source": [
    "year_list = bag_df['Year'].unique()"
   ]
  },
  {
   "cell_type": "code",
   "execution_count": 124,
   "id": "6612da58",
   "metadata": {},
   "outputs": [],
   "source": [
    "# New column of ratio of Baggage/Enplaned \n",
    "bag_df[\"B/E\"] = bag_df[\"Baggage\"] / bag_df[\"Enplaned\"]"
   ]
  },
  {
   "cell_type": "markdown",
   "id": "8546bdb5",
   "metadata": {},
   "source": [
    "# American Eagle"
   ]
  },
  {
   "cell_type": "code",
   "execution_count": 47,
   "id": "856fb068",
   "metadata": {},
   "outputs": [],
   "source": [
    "# Creating a DataFrame for year and average B/E ( Average B/E added later )\n",
    "AmEagle = pd.DataFrame()\n",
    "AmEagle[\"Year\"] = pd.DataFrame(year_list) "
   ]
  },
  {
   "cell_type": "markdown",
   "id": "9f4c461f",
   "metadata": {},
   "source": [
    "### Calculating Average B/E"
   ]
  },
  {
   "cell_type": "code",
   "execution_count": 48,
   "id": "39daa412",
   "metadata": {},
   "outputs": [],
   "source": [
    "American_sub_df = bag_df[bag_df[\"Airline\"] == \"American Eagle\"] # Creating DataFrame for only Hawaiian Airlines"
   ]
  },
  {
   "cell_type": "code",
   "execution_count": 49,
   "id": "54c5ecd8",
   "metadata": {},
   "outputs": [],
   "source": [
    "American_BE_Ave = [] # List for average B/E\n",
    "for year in year_list: # Loop through all unique years\n",
    "    # Calculate Sum of all B/E values then divide by 12 (months)\n",
    "    # Append this value to the list\n",
    "    American_BE_Ave.append(American_sub_df[American_sub_df[\"Year\"] == year][\"B/E\"].sum() / 12)"
   ]
  },
  {
   "cell_type": "code",
   "execution_count": 50,
   "id": "5a406317",
   "metadata": {},
   "outputs": [],
   "source": [
    "# Create new column in Hawaii DF for Average B/E\n",
    "AmEagle[\"Average B/E\"] = pd.DataFrame(American_BE_Ave) "
   ]
  },
  {
   "cell_type": "markdown",
   "id": "d6863204",
   "metadata": {},
   "source": [
    "### Standard Deviation"
   ]
  },
  {
   "cell_type": "code",
   "execution_count": 51,
   "id": "a3a223e4",
   "metadata": {},
   "outputs": [],
   "source": [
    "# Square of Deviation (Deviation of \"Average B/E\" from average of Average B/E)\n",
    "American_Ave_BE = AmEagle[\"Average B/E\"].sum() / len(year_list) # mean\n",
    "SquareDev = []\n",
    "for ave in AmEagle[\"Average B/E\"]:\n",
    "    # Deviation, square of deviation\n",
    "    SquareDev.append( (ave - American_Ave_BE) ** 2 ) \n",
    "# sum of squares, variance, squareroot of variance\n",
    "American_SD = math.sqrt( sum(SquareDev) / (len(year_list) - 1 ) ) "
   ]
  },
  {
   "cell_type": "code",
   "execution_count": 164,
   "id": "e5d6c064",
   "metadata": {},
   "outputs": [],
   "source": [
    "# Adding additional columns and values into data frame for airline name and standard deviation\n",
    "AmEagle[\"Standard Deviation\"] = pd.DataFrame([American_SD, American_SD, American_SD, American_SD, American_SD, American_SD, American_SD])\n",
    "AmEagle[\"Airline\"] = pd.DataFrame([\"American Eagle\", \"American Eagle\",\"American Eagle\",\"American Eagle\",\"American Eagle\",\"American Eagle\",\"American Eagle\"])"
   ]
  },
  {
   "cell_type": "code",
   "execution_count": 53,
   "id": "6bbf59cd",
   "metadata": {},
   "outputs": [
    {
     "name": "stdout",
     "output_type": "stream",
     "text": [
      "0.002769834683561016\n"
     ]
    }
   ],
   "source": [
    "print(American_SD)"
   ]
  },
  {
   "cell_type": "markdown",
   "id": "73b8db6c",
   "metadata": {},
   "source": [
    "# Hawaiian"
   ]
  },
  {
   "cell_type": "code",
   "execution_count": 26,
   "id": "73426d11",
   "metadata": {},
   "outputs": [],
   "source": [
    "# Creating a DataFrame for year and average B/E ( Average B/E added later )\n",
    "Hawaii = pd.DataFrame()\n",
    "Hawaii[\"Year\"] = pd.DataFrame(year_list) "
   ]
  },
  {
   "cell_type": "markdown",
   "id": "f3e8d6d9",
   "metadata": {},
   "source": [
    "### Calculating Average B/E"
   ]
  },
  {
   "cell_type": "code",
   "execution_count": 27,
   "id": "0baa39f7",
   "metadata": {},
   "outputs": [],
   "source": [
    "Hawaii_df = bag_df[bag_df[\"Airline\"] == \"Hawaiian\"] # Creating DataFrame for only Hawaiian Airlines"
   ]
  },
  {
   "cell_type": "code",
   "execution_count": 28,
   "id": "8ec53aec",
   "metadata": {},
   "outputs": [],
   "source": [
    "hawaii_BE_Ave = [] # List for average B/E\n",
    "for year in year_list: # Loop through all unique years\n",
    "    # Calculate Sum of all B/E values then divide by 12 (months)\n",
    "    # Append this value to the list\n",
    "    hawaii_BE_Ave.append(Hawaii_df[Hawaii_df[\"Year\"] == year][\"B/E\"].sum() / 12)"
   ]
  },
  {
   "cell_type": "code",
   "execution_count": 29,
   "id": "1a988dc5",
   "metadata": {},
   "outputs": [],
   "source": [
    "# Create new column in Hawaii DF for Average B/E\n",
    "Hawaii[\"Average B/E\"] = pd.DataFrame(hawaii_BE_Ave) "
   ]
  },
  {
   "cell_type": "markdown",
   "id": "1474c634",
   "metadata": {},
   "source": [
    "### Standard Deviation"
   ]
  },
  {
   "cell_type": "code",
   "execution_count": 30,
   "id": "5ac93de5",
   "metadata": {},
   "outputs": [],
   "source": [
    "# Square of Deviation (Deviation of \"Average B/E\" from average of Average B/E)\n",
    "Hawaiian_Ave_BE = Hawaii[\"Average B/E\"].sum() / len(year_list) # mean\n",
    "SquareDev = []\n",
    "for ave in Hawaii[\"Average B/E\"]:\n",
    "    # Deviation, square of deviation\n",
    "    SquareDev.append( (ave - Hawaiian_Ave_BE) ** 2 ) \n",
    "# sum of squares, variance, squareroot of variance\n",
    "Hawaiian_SD = math.sqrt( sum(SquareDev) / (len(year_list) - 1 ) ) "
   ]
  },
  {
   "cell_type": "code",
   "execution_count": 165,
   "id": "72afdab8",
   "metadata": {},
   "outputs": [],
   "source": [
    "# Adding additional columns and values into data frame for airline name and standard deviation\n",
    "Hawaii[\"Standard Deviation\"] = pd.DataFrame([Hawaiian_SD, Hawaiian_SD, Hawaiian_SD, Hawaiian_SD, Hawaiian_SD, Hawaiian_SD, Hawaiian_SD])\n",
    "Hawaii[\"Airline\"] = pd.DataFrame([\"Hawaiian\", \"Hawaiian\", \"Hawaiian\", \"Hawaiian\", \"Hawaiian\", \"Hawaiian\", \"Hawaiian\"])"
   ]
  },
  {
   "cell_type": "code",
   "execution_count": 39,
   "id": "42a54c7e",
   "metadata": {},
   "outputs": [
    {
     "name": "stdout",
     "output_type": "stream",
     "text": [
      "0.0005224816195725483\n"
     ]
    }
   ],
   "source": [
    "print(Hawaiian_SD)"
   ]
  },
  {
   "cell_type": "markdown",
   "id": "a3938d8d",
   "metadata": {},
   "source": [
    "# United"
   ]
  },
  {
   "cell_type": "code",
   "execution_count": 31,
   "id": "b477c327",
   "metadata": {},
   "outputs": [],
   "source": [
    "# Creating a DataFrame for year and average B/E ( Average B/E added later )\n",
    "United = pd.DataFrame()\n",
    "United[\"Year\"] = pd.DataFrame(year_list)"
   ]
  },
  {
   "cell_type": "markdown",
   "id": "7e2bb87f",
   "metadata": {},
   "source": [
    "### Calculating Average B/E"
   ]
  },
  {
   "cell_type": "code",
   "execution_count": 32,
   "id": "1b4fa1e4",
   "metadata": {},
   "outputs": [],
   "source": [
    "united_sub_df = bag_df[bag_df[\"Airline\"] == \"United\"]"
   ]
  },
  {
   "cell_type": "code",
   "execution_count": 33,
   "id": "8ef692fd",
   "metadata": {},
   "outputs": [],
   "source": [
    "united_BE_Ave = [] # List for average B/E\n",
    "for year in year_list: # Loop through all unique years\n",
    "    # Calculate Sum of all B/E values then divide by 12 (months)\n",
    "    # Append this value to the list\n",
    "    united_BE_Ave.append(united_sub_df[united_sub_df[\"Year\"] == year][\"B/E\"].sum() / 12)"
   ]
  },
  {
   "cell_type": "code",
   "execution_count": 34,
   "id": "4e20c4fa",
   "metadata": {},
   "outputs": [],
   "source": [
    "# Create new column in Hawaii DF for Average B/E\n",
    "United[\"Average B/E\"] = pd.DataFrame(united_BE_Ave) "
   ]
  },
  {
   "cell_type": "markdown",
   "id": "1d70885f",
   "metadata": {},
   "source": [
    "### Standard Deviation"
   ]
  },
  {
   "cell_type": "code",
   "execution_count": 35,
   "id": "4752a057",
   "metadata": {},
   "outputs": [],
   "source": [
    "# Square of Deviation (Deviation of \"Average B/E\" from average of Average B/E)\n",
    "United_Ave_BE = United[\"Average B/E\"].sum() / len(year_list) # mean\n",
    "SquareDev = []\n",
    "for ave in United[\"Average B/E\"]:\n",
    "    # Deviation, square of deviation\n",
    "    SquareDev.append( (ave - United_Ave_BE) ** 2 ) \n",
    "# sum of squares, variance, squareroot of variance\n",
    "United_SD = math.sqrt( sum(SquareDev) / (len(year_list) - 1 ) ) "
   ]
  },
  {
   "cell_type": "code",
   "execution_count": 159,
   "id": "a16e26f7",
   "metadata": {},
   "outputs": [],
   "source": [
    "# Adding additional columns and values into data frame for airline name and standard deviation\n",
    "United[\"Airline\"] = pd.DataFrame([\"United\", \"United\", \"United\", \"United\", \"United\", \"United\", \"United\" ])\n",
    "United[\"Standard Deviation\"] = pd.DataFrame([United_SD, United_SD, United_SD, United_SD, United_SD, United_SD, United_SD])"
   ]
  },
  {
   "cell_type": "code",
   "execution_count": 54,
   "id": "684f507c",
   "metadata": {},
   "outputs": [
    {
     "name": "stdout",
     "output_type": "stream",
     "text": [
      "0.0009368351771928589\n"
     ]
    }
   ],
   "source": [
    "print(United_SD)"
   ]
  },
  {
   "cell_type": "markdown",
   "id": "07ef76e5",
   "metadata": {},
   "source": [
    "## New Data Frame"
   ]
  },
  {
   "cell_type": "code",
   "execution_count": 163,
   "id": "005b4d9f",
   "metadata": {},
   "outputs": [
    {
     "data": {
      "text/html": [
       "<div>\n",
       "<style scoped>\n",
       "    .dataframe tbody tr th:only-of-type {\n",
       "        vertical-align: middle;\n",
       "    }\n",
       "\n",
       "    .dataframe tbody tr th {\n",
       "        vertical-align: top;\n",
       "    }\n",
       "\n",
       "    .dataframe thead th {\n",
       "        text-align: right;\n",
       "    }\n",
       "</style>\n",
       "<table border=\"1\" class=\"dataframe\">\n",
       "  <thead>\n",
       "    <tr style=\"text-align: right;\">\n",
       "      <th></th>\n",
       "      <th>Year</th>\n",
       "      <th>Average B/E</th>\n",
       "      <th>Airline</th>\n",
       "      <th>Standard Deviation</th>\n",
       "    </tr>\n",
       "  </thead>\n",
       "  <tbody>\n",
       "    <tr>\n",
       "      <th>0</th>\n",
       "      <td>2004</td>\n",
       "      <td>0.002855</td>\n",
       "      <td>Hawaiian</td>\n",
       "      <td>0.000522</td>\n",
       "    </tr>\n",
       "    <tr>\n",
       "      <th>1</th>\n",
       "      <td>2005</td>\n",
       "      <td>0.002940</td>\n",
       "      <td>Hawaiian</td>\n",
       "      <td>0.000522</td>\n",
       "    </tr>\n",
       "    <tr>\n",
       "      <th>2</th>\n",
       "      <td>2006</td>\n",
       "      <td>0.003131</td>\n",
       "      <td>Hawaiian</td>\n",
       "      <td>0.000522</td>\n",
       "    </tr>\n",
       "    <tr>\n",
       "      <th>3</th>\n",
       "      <td>2007</td>\n",
       "      <td>0.003407</td>\n",
       "      <td>Hawaiian</td>\n",
       "      <td>0.000522</td>\n",
       "    </tr>\n",
       "    <tr>\n",
       "      <th>4</th>\n",
       "      <td>2008</td>\n",
       "      <td>0.002929</td>\n",
       "      <td>Hawaiian</td>\n",
       "      <td>0.000522</td>\n",
       "    </tr>\n",
       "  </tbody>\n",
       "</table>\n",
       "</div>"
      ],
      "text/plain": [
       "   Year  Average B/E   Airline  Standard Deviation\n",
       "0  2004     0.002855  Hawaiian            0.000522\n",
       "1  2005     0.002940  Hawaiian            0.000522\n",
       "2  2006     0.003131  Hawaiian            0.000522\n",
       "3  2007     0.003407  Hawaiian            0.000522\n",
       "4  2008     0.002929  Hawaiian            0.000522"
      ]
     },
     "execution_count": 163,
     "metadata": {},
     "output_type": "execute_result"
    }
   ],
   "source": [
    "# Creating Data Frame by concatinating all information found in previous calculations\n",
    "second = pd.concat([Hawaii, United, AmEagle])\n",
    "second.head()"
   ]
  },
  {
   "cell_type": "markdown",
   "id": "d3799d5c",
   "metadata": {},
   "source": [
    "# Figure"
   ]
  },
  {
   "cell_type": "code",
   "execution_count": 167,
   "id": "acfee37f",
   "metadata": {},
   "outputs": [
    {
     "data": {
      "image/png": "[encoded data removed]",
      "text/plain": [
       "<Figure size 200x200 with 1 Axes>"
      ]
     },
     "metadata": {},
     "output_type": "display_data"
    }
   ],
   "source": [
    "plt.style.use('_mpl-gallery')\n",
    "\n",
    "# plot:\n",
    "fig, ax = plt.subplots()\n",
    "\n",
    "ax.set_title('Average B/E with Standard Dev.') # title of graph\n",
    "ax.set_xlabel('Year') # x-axis label\n",
    "ax.set_ylabel('Average B/E') # y-axis label\n",
    "\n",
    "# Using three separate plots for three different airlines\n",
    "ax.errorbar(year_list, United[\"Average B/E\"], United_SD, fmt='o', color=\"green\", linewidth=2, capsize=6)\n",
    "ax.errorbar(year_list, Hawaii[\"Average B/E\"], Hawaiian_SD, fmt='o', color=\"orange\", linewidth=2, capsize=6)\n",
    "ax.errorbar(year_list, AmEagle[\"Average B/E\"], American_SD, fmt='o', color=\"purple\", linewidth=2, capsize=6)\n",
    "\n",
    "# Setting axis values\n",
    "ax.set(xlim=(2004, 2011), xticks=np.arange(2003, 2011), ylim=(0, .03))\n",
    "\n",
    "# Rotating x-axis labels for better viewing \n",
    "plt.xticks(rotation=45)\n",
    "\n",
    "# Creating Legend\n",
    "plt.legend(('United', 'Hawaiian', 'American Eagle'),\n",
    "           loc='upper center', shadow=True)\n",
    "plt.show()"
   ]
  },
  {
   "cell_type": "code",
   "execution_count": null,
   "id": "d35d8722",
   "metadata": {},
   "outputs": [],
   "source": []
  }
 ],
 "metadata": {
  "kernelspec": {
   "display_name": "Python 3 (ipykernel)",
   "language": "python",
   "name": "python3"
  },
  "language_info": {
   "codemirror_mode": {
    "name": "ipython",
    "version": 3
   },
   "file_extension": ".py",
   "mimetype": "text/x-python",
   "name": "python",
   "nbconvert_exporter": "python",
   "pygments_lexer": "ipython3",
   "version": "3.11.4"
  }
 },
 "nbformat": 4,
 "nbformat_minor": 5
}
