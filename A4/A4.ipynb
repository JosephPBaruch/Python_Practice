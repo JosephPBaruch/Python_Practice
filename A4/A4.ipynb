{
 "cells": [
  {
   "cell_type": "code",
   "execution_count": 101,
   "id": "8e90dc72",
   "metadata": {},
   "outputs": [],
   "source": [
    "import pandas as pd\n",
    "import math\n",
    "bag_df = pd.read_csv('baggage.csv', header=0)"
   ]
  },
  {
   "cell_type": "code",
   "execution_count": 9,
   "id": "e1a1054c",
   "metadata": {},
   "outputs": [],
   "source": [
    "# Each year, 1. find the mean B/E and \n",
    "#.           2.standard deviation \n",
    "# for each airline ( create new dataframe)"
   ]
  },
  {
   "cell_type": "code",
   "execution_count": 10,
   "id": "2cb9480e",
   "metadata": {},
   "outputs": [],
   "source": [
    "# Create a figure y : Mean B/E X: year with standard deviation represented"
   ]
  },
  {
   "cell_type": "code",
   "execution_count": 57,
   "id": "239261d9",
   "metadata": {},
   "outputs": [],
   "source": [
    "air_list = bag_df['Airline'].unique()"
   ]
  },
  {
   "cell_type": "code",
   "execution_count": 59,
   "id": "a1ddc705",
   "metadata": {},
   "outputs": [],
   "source": [
    "year_list = bag_df['Year'].unique()"
   ]
  },
  {
   "cell_type": "code",
   "execution_count": 58,
   "id": "15b2fe12",
   "metadata": {},
   "outputs": [
    {
     "name": "stdout",
     "output_type": "stream",
     "text": [
      "['American Eagle' 'Hawaiian' 'United']\n"
     ]
    }
   ],
   "source": [
    "print(air_list)"
   ]
  },
  {
   "cell_type": "code",
   "execution_count": 61,
   "id": "85201e69",
   "metadata": {},
   "outputs": [
    {
     "name": "stdout",
     "output_type": "stream",
     "text": [
      "[2004 2005 2006 2007 2008 2009 2010]\n"
     ]
    }
   ],
   "source": [
    "print(year_list)"
   ]
  },
  {
   "cell_type": "code",
   "execution_count": 111,
   "id": "6612da58",
   "metadata": {},
   "outputs": [],
   "source": [
    "# New column of ratio of Baggage/Enplaned \n",
    "bag_df[\"B/E\"] = bag_df[\"Baggage\"] / bag_df[\"Enplaned\"]"
   ]
  },
  {
   "cell_type": "markdown",
   "id": "8546bdb5",
   "metadata": {},
   "source": [
    "# American Eagle"
   ]
  },
  {
   "cell_type": "code",
   "execution_count": 75,
   "id": "856fb068",
   "metadata": {},
   "outputs": [],
   "source": [
    "AmEagle = pd.DataFrame()\n",
    "AmEagle[\"Year\"] = pd.DataFrame(year_list) "
   ]
  },
  {
   "cell_type": "markdown",
   "id": "9f4c461f",
   "metadata": {},
   "source": [
    "### Calculating Average B/E"
   ]
  },
  {
   "cell_type": "code",
   "execution_count": 81,
   "id": "54c5ecd8",
   "metadata": {},
   "outputs": [],
   "source": [
    "averageList = []\n",
    "i = 0\n",
    "for year in AmEagle[\"Year\"]:\n",
    "    sum = 0\n",
    "    while(bag_df[\"Year\"][i] == year and bag_df[\"Airline\"][i] == \"American Eagle\"):\n",
    "        sum += bag_df[\"B/E\"][i]\n",
    "        i += 1\n",
    "    average = sum / 12\n",
    "    averageList.append(average)"
   ]
  },
  {
   "cell_type": "code",
   "execution_count": 83,
   "id": "5a406317",
   "metadata": {},
   "outputs": [],
   "source": [
    "AmEagle[\"Average B/E\"] = pd.DataFrame(averageList)"
   ]
  },
  {
   "cell_type": "markdown",
   "id": "d6863204",
   "metadata": {},
   "source": [
    "### Standard Deviation"
   ]
  },
  {
   "cell_type": "code",
   "execution_count": null,
   "id": "cf8c6bfa",
   "metadata": {},
   "outputs": [],
   "source": [
    "# mean, deviation from mean, square of deviation, sum of squares, variance, squareroot of the variance"
   ]
  },
  {
   "cell_type": "code",
   "execution_count": 96,
   "id": "170a64da",
   "metadata": {},
   "outputs": [],
   "source": [
    "# Mean of all Average B/E\n",
    "sum = 0\n",
    "for ave in AmEagle[\"Average B/E\"]:\n",
    "    sum += ave\n",
    "averageofAve = sum / 7"
   ]
  },
  {
   "cell_type": "code",
   "execution_count": 97,
   "id": "a3a223e4",
   "metadata": {},
   "outputs": [],
   "source": [
    "# Sqare of Deviation from mean\n",
    "devMean = []\n",
    "SquareDev = []\n",
    "for ave in AmEagle[\"Average B/E\"]:\n",
    "    temp = 0\n",
    "    temp = ave - averageofAve\n",
    "    SquareDev.append( temp * temp )\n",
    "AmEagle[\"Deviation Squared\"] = pd.DataFrame(SquareDev)"
   ]
  },
  {
   "cell_type": "code",
   "execution_count": 99,
   "id": "7434b86d",
   "metadata": {},
   "outputs": [],
   "source": [
    "# Sum of Squares\n",
    "square_sum = 0\n",
    "for val in SquareDev:\n",
    "    square_sum += val"
   ]
  },
  {
   "cell_type": "code",
   "execution_count": 100,
   "id": "544c7c94",
   "metadata": {},
   "outputs": [],
   "source": [
    "# Variance\n",
    "vari = square_sum / (7-1)"
   ]
  },
  {
   "cell_type": "code",
   "execution_count": 105,
   "id": "6dfd15b7",
   "metadata": {},
   "outputs": [],
   "source": [
    "# Square root Variance\n",
    "Am_Eag_Standard_Deviation = math.sqrt(vari)"
   ]
  },
  {
   "cell_type": "markdown",
   "id": "73b8db6c",
   "metadata": {},
   "source": [
    "# Hawaiian"
   ]
  },
  {
   "cell_type": "code",
   "execution_count": 106,
   "id": "73426d11",
   "metadata": {},
   "outputs": [],
   "source": [
    "Hawaii = pd.DataFrame()\n",
    "Hawaii[\"Year\"] = pd.DataFrame(year_list) "
   ]
  },
  {
   "cell_type": "markdown",
   "id": "f3e8d6d9",
   "metadata": {},
   "source": [
    "### Calculating Average B/E"
   ]
  },
  {
   "cell_type": "code",
   "execution_count": 112,
   "id": "bab60c73",
   "metadata": {},
   "outputs": [
    {
     "data": {
      "text/html": [
       "<div>\n",
       "<style scoped>\n",
       "    .dataframe tbody tr th:only-of-type {\n",
       "        vertical-align: middle;\n",
       "    }\n",
       "\n",
       "    .dataframe tbody tr th {\n",
       "        vertical-align: top;\n",
       "    }\n",
       "\n",
       "    .dataframe thead th {\n",
       "        text-align: right;\n",
       "    }\n",
       "</style>\n",
       "<table border=\"1\" class=\"dataframe\">\n",
       "  <thead>\n",
       "    <tr style=\"text-align: right;\">\n",
       "      <th></th>\n",
       "      <th>Airline</th>\n",
       "      <th>Month</th>\n",
       "      <th>Year</th>\n",
       "      <th>Baggage</th>\n",
       "      <th>Scheduled</th>\n",
       "      <th>Cancelled</th>\n",
       "      <th>Enplaned</th>\n",
       "      <th>B/E</th>\n",
       "    </tr>\n",
       "  </thead>\n",
       "  <tbody>\n",
       "    <tr>\n",
       "      <th>0</th>\n",
       "      <td>American Eagle</td>\n",
       "      <td>1</td>\n",
       "      <td>2004</td>\n",
       "      <td>12502</td>\n",
       "      <td>38276</td>\n",
       "      <td>2481</td>\n",
       "      <td>992360</td>\n",
       "      <td>0.012598</td>\n",
       "    </tr>\n",
       "    <tr>\n",
       "      <th>1</th>\n",
       "      <td>American Eagle</td>\n",
       "      <td>2</td>\n",
       "      <td>2004</td>\n",
       "      <td>8977</td>\n",
       "      <td>35762</td>\n",
       "      <td>886</td>\n",
       "      <td>1060618</td>\n",
       "      <td>0.008464</td>\n",
       "    </tr>\n",
       "    <tr>\n",
       "      <th>2</th>\n",
       "      <td>American Eagle</td>\n",
       "      <td>3</td>\n",
       "      <td>2004</td>\n",
       "      <td>10289</td>\n",
       "      <td>39445</td>\n",
       "      <td>1346</td>\n",
       "      <td>1227469</td>\n",
       "      <td>0.008382</td>\n",
       "    </tr>\n",
       "    <tr>\n",
       "      <th>3</th>\n",
       "      <td>American Eagle</td>\n",
       "      <td>4</td>\n",
       "      <td>2004</td>\n",
       "      <td>8095</td>\n",
       "      <td>38982</td>\n",
       "      <td>755</td>\n",
       "      <td>1234451</td>\n",
       "      <td>0.006558</td>\n",
       "    </tr>\n",
       "    <tr>\n",
       "      <th>4</th>\n",
       "      <td>American Eagle</td>\n",
       "      <td>5</td>\n",
       "      <td>2004</td>\n",
       "      <td>10618</td>\n",
       "      <td>40422</td>\n",
       "      <td>2206</td>\n",
       "      <td>1267581</td>\n",
       "      <td>0.008377</td>\n",
       "    </tr>\n",
       "  </tbody>\n",
       "</table>\n",
       "</div>"
      ],
      "text/plain": [
       "          Airline  Month  Year  Baggage  Scheduled  Cancelled  Enplaned  \\\n",
       "0  American Eagle      1  2004    12502      38276       2481    992360   \n",
       "1  American Eagle      2  2004     8977      35762        886   1060618   \n",
       "2  American Eagle      3  2004    10289      39445       1346   1227469   \n",
       "3  American Eagle      4  2004     8095      38982        755   1234451   \n",
       "4  American Eagle      5  2004    10618      40422       2206   1267581   \n",
       "\n",
       "        B/E  \n",
       "0  0.012598  \n",
       "1  0.008464  \n",
       "2  0.008382  \n",
       "3  0.006558  \n",
       "4  0.008377  "
      ]
     },
     "execution_count": 112,
     "metadata": {},
     "output_type": "execute_result"
    }
   ],
   "source": [
    "bag_df.head()"
   ]
  },
  {
   "cell_type": "code",
   "execution_count": 116,
   "id": "5b3be865",
   "metadata": {},
   "outputs": [
    {
     "ename": "ValueError",
     "evalue": "The truth value of a Series is ambiguous. Use a.empty, a.bool(), a.item(), a.any() or a.all().",
     "output_type": "error",
     "traceback": [
      "\u001b[0;31m---------------------------------------------------------------------------\u001b[0m",
      "\u001b[0;31mValueError\u001b[0m                                Traceback (most recent call last)",
      "Cell \u001b[0;32mIn[116], line 3\u001b[0m\n\u001b[1;32m      1\u001b[0m \u001b[38;5;28;01mfor\u001b[39;00m year \u001b[38;5;129;01min\u001b[39;00m Hawaii[\u001b[38;5;124m\"\u001b[39m\u001b[38;5;124mYear\u001b[39m\u001b[38;5;124m\"\u001b[39m]:\n\u001b[1;32m      2\u001b[0m     \u001b[38;5;28;01mfor\u001b[39;00m be \u001b[38;5;129;01min\u001b[39;00m bag_df[\u001b[38;5;124m\"\u001b[39m\u001b[38;5;124mB/E\u001b[39m\u001b[38;5;124m\"\u001b[39m]:\n\u001b[0;32m----> 3\u001b[0m         \u001b[38;5;28;01mif\u001b[39;00m bag_df[\u001b[38;5;124m\"\u001b[39m\u001b[38;5;124mYear\u001b[39m\u001b[38;5;124m\"\u001b[39m] \u001b[38;5;241m==\u001b[39m year \u001b[38;5;129;01mand\u001b[39;00m bag_df[\u001b[38;5;124m\"\u001b[39m\u001b[38;5;124mAirline\u001b[39m\u001b[38;5;124m\"\u001b[39m] \u001b[38;5;241m==\u001b[39m \u001b[38;5;124m\"\u001b[39m\u001b[38;5;124mHawaiian\u001b[39m\u001b[38;5;124m\"\u001b[39m:\n\u001b[1;32m      4\u001b[0m             \u001b[38;5;28mprint\u001b[39m(\u001b[38;5;124m\"\u001b[39m\u001b[38;5;124myea\u001b[39m\u001b[38;5;124m\"\u001b[39m)\n",
      "File \u001b[0;32m~/anaconda3/lib/python3.11/site-packages/pandas/core/generic.py:1527\u001b[0m, in \u001b[0;36mNDFrame.__nonzero__\u001b[0;34m(self)\u001b[0m\n\u001b[1;32m   1525\u001b[0m \u001b[38;5;129m@final\u001b[39m\n\u001b[1;32m   1526\u001b[0m \u001b[38;5;28;01mdef\u001b[39;00m \u001b[38;5;21m__nonzero__\u001b[39m(\u001b[38;5;28mself\u001b[39m) \u001b[38;5;241m-\u001b[39m\u001b[38;5;241m>\u001b[39m NoReturn:\n\u001b[0;32m-> 1527\u001b[0m     \u001b[38;5;28;01mraise\u001b[39;00m \u001b[38;5;167;01mValueError\u001b[39;00m(\n\u001b[1;32m   1528\u001b[0m         \u001b[38;5;124mf\u001b[39m\u001b[38;5;124m\"\u001b[39m\u001b[38;5;124mThe truth value of a \u001b[39m\u001b[38;5;132;01m{\u001b[39;00m\u001b[38;5;28mtype\u001b[39m(\u001b[38;5;28mself\u001b[39m)\u001b[38;5;241m.\u001b[39m\u001b[38;5;18m__name__\u001b[39m\u001b[38;5;132;01m}\u001b[39;00m\u001b[38;5;124m is ambiguous. \u001b[39m\u001b[38;5;124m\"\u001b[39m\n\u001b[1;32m   1529\u001b[0m         \u001b[38;5;124m\"\u001b[39m\u001b[38;5;124mUse a.empty, a.bool(), a.item(), a.any() or a.all().\u001b[39m\u001b[38;5;124m\"\u001b[39m\n\u001b[1;32m   1530\u001b[0m     )\n",
      "\u001b[0;31mValueError\u001b[0m: The truth value of a Series is ambiguous. Use a.empty, a.bool(), a.item(), a.any() or a.all()."
     ]
    }
   ],
   "source": [
    "for year in Hawaii[\"Year\"]:\n",
    "    i = 0\n",
    "    while(bag_df[])\n"
   ]
  },
  {
   "cell_type": "code",
   "execution_count": null,
   "id": "ec1ab3ba",
   "metadata": {},
   "outputs": [],
   "source": []
  }
 ],
 "metadata": {
  "kernelspec": {
   "display_name": "Python 3 (ipykernel)",
   "language": "python",
   "name": "python3"
  },
  "language_info": {
   "codemirror_mode": {
    "name": "ipython",
    "version": 3
   },
   "file_extension": ".py",
   "mimetype": "text/x-python",
   "name": "python",
   "nbconvert_exporter": "python",
   "pygments_lexer": "ipython3",
   "version": "3.11.4"
  }
 },
 "nbformat": 4,
 "nbformat_minor": 5
}
