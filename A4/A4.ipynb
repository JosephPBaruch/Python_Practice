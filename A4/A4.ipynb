{
 "cells": [
  {
   "cell_type": "markdown",
   "id": "dd89c2fd",
   "metadata": {},
   "source": [
    "# Assignment 4"
   ]
  },
  {
   "cell_type": "code",
   "execution_count": 65,
   "id": "8e90dc72",
   "metadata": {},
   "outputs": [],
   "source": [
    "import pandas as pd\n",
    "import math\n",
    "bag_df = pd.read_csv('baggage.csv')"
   ]
  },
  {
   "cell_type": "code",
   "execution_count": 66,
   "id": "e1a1054c",
   "metadata": {},
   "outputs": [],
   "source": [
    "# Each year, 1. find the mean B/E and \n",
    "#.           2.standard deviation \n",
    "# for each airline ( create new dataframe)"
   ]
  },
  {
   "cell_type": "code",
   "execution_count": 67,
   "id": "2cb9480e",
   "metadata": {},
   "outputs": [],
   "source": [
    "# Create a figure y : Mean B/E X: year with standard deviation represented"
   ]
  },
  {
   "cell_type": "code",
   "execution_count": 68,
   "id": "239261d9",
   "metadata": {},
   "outputs": [],
   "source": [
    "air_list = bag_df['Airline'].unique()"
   ]
  },
  {
   "cell_type": "code",
   "execution_count": 69,
   "id": "9b8d3cb3",
   "metadata": {},
   "outputs": [
    {
     "name": "stdout",
     "output_type": "stream",
     "text": [
      "['American Eagle' 'Hawaiian' 'United']\n"
     ]
    }
   ],
   "source": [
    "print(air_list)"
   ]
  },
  {
   "cell_type": "code",
   "execution_count": 70,
   "id": "a1ddc705",
   "metadata": {},
   "outputs": [],
   "source": [
    "year_list = bag_df['Year'].unique()"
   ]
  },
  {
   "cell_type": "code",
   "execution_count": 71,
   "id": "6612da58",
   "metadata": {},
   "outputs": [],
   "source": [
    "# New column of ratio of Baggage/Enplaned \n",
    "bag_df[\"B/E\"] = bag_df[\"Baggage\"] / bag_df[\"Enplaned\"]"
   ]
  },
  {
   "cell_type": "markdown",
   "id": "8546bdb5",
   "metadata": {},
   "source": [
    "# American Eagle"
   ]
  },
  {
   "cell_type": "code",
   "execution_count": 72,
   "id": "856fb068",
   "metadata": {},
   "outputs": [],
   "source": [
    "# Creating a DataFrame for year and average B/E ( Average B/E added later )\n",
    "AmEagle = pd.DataFrame()\n",
    "AmEagle[\"Year\"] = pd.DataFrame(year_list) "
   ]
  },
  {
   "cell_type": "markdown",
   "id": "9f4c461f",
   "metadata": {},
   "source": [
    "### Calculating Average B/E"
   ]
  },
  {
   "cell_type": "code",
   "execution_count": 73,
   "id": "39daa412",
   "metadata": {},
   "outputs": [],
   "source": [
    "American_sub_df = bag_df[bag_df[\"Airline\"] == \"American Eagle\"] # Creating DataFrame for only Hawaiian Airlines"
   ]
  },
  {
   "cell_type": "code",
   "execution_count": 74,
   "id": "54c5ecd8",
   "metadata": {},
   "outputs": [],
   "source": [
    "American_BE_Ave = [] # List for average B/E\n",
    "for year in year_list: # Loop through all unique years\n",
    "    # Calculate Sum of all B/E values then divide by 12 (months)\n",
    "    # Append this value to the list\n",
    "    American_BE_Ave.append(American_sub_df[American_sub_df[\"Year\"] == year][\"B/E\"].sum() / 12)"
   ]
  },
  {
   "cell_type": "code",
   "execution_count": 75,
   "id": "5a406317",
   "metadata": {},
   "outputs": [],
   "source": [
    "# Create new column in Hawaii DF for Average B/E\n",
    "AmEagle[\"Average B/E\"] = pd.DataFrame(American_BE_Ave) "
   ]
  },
  {
   "cell_type": "markdown",
   "id": "d6863204",
   "metadata": {},
   "source": [
    "### Standard Deviation"
   ]
  },
  {
   "cell_type": "code",
   "execution_count": 76,
   "id": "cf8c6bfa",
   "metadata": {},
   "outputs": [],
   "source": [
    "# mean, deviation from mean, square of deviation, sum of squares, variance, squareroot of the variance"
   ]
  },
  {
   "cell_type": "code",
   "execution_count": 90,
   "id": "170a64da",
   "metadata": {},
   "outputs": [],
   "source": [
    "# Mean of all Average B/E\n",
    "American_Ave_BE = AmEagle[\"Average B/E\"].sum() / 7"
   ]
  },
  {
   "cell_type": "code",
   "execution_count": 78,
   "id": "a3a223e4",
   "metadata": {},
   "outputs": [],
   "source": [
    "# Sqare of Deviation from mean\n",
    "devMean = []\n",
    "SquareDev = []\n",
    "for ave in AmEagle[\"Average B/E\"]:\n",
    "    temp = 0\n",
    "    temp = ave - averageofAve\n",
    "    SquareDev.append( temp * temp )\n",
    "AmEagle[\"Deviation Squared\"] = pd.DataFrame(SquareDev)"
   ]
  },
  {
   "cell_type": "code",
   "execution_count": 79,
   "id": "7434b86d",
   "metadata": {},
   "outputs": [],
   "source": [
    "# Sum of Squares\n",
    "square_sum = 0\n",
    "for val in SquareDev:\n",
    "    square_sum += val"
   ]
  },
  {
   "cell_type": "code",
   "execution_count": 80,
   "id": "544c7c94",
   "metadata": {},
   "outputs": [],
   "source": [
    "# Variance\n",
    "vari = square_sum / (7-1)"
   ]
  },
  {
   "cell_type": "code",
   "execution_count": 81,
   "id": "6dfd15b7",
   "metadata": {},
   "outputs": [],
   "source": [
    "# Square root Variance\n",
    "Am_Eag_Standard_Deviation = math.sqrt(vari)"
   ]
  },
  {
   "cell_type": "markdown",
   "id": "73b8db6c",
   "metadata": {},
   "source": [
    "# Hawaiian"
   ]
  },
  {
   "cell_type": "code",
   "execution_count": 82,
   "id": "73426d11",
   "metadata": {},
   "outputs": [],
   "source": [
    "# Creating a DataFrame for year and average B/E ( Average B/E added later )\n",
    "Hawaii = pd.DataFrame()\n",
    "Hawaii[\"Year\"] = pd.DataFrame(year_list) "
   ]
  },
  {
   "cell_type": "markdown",
   "id": "f3e8d6d9",
   "metadata": {},
   "source": [
    "### Calculating Average B/E"
   ]
  },
  {
   "cell_type": "code",
   "execution_count": 83,
   "id": "0baa39f7",
   "metadata": {},
   "outputs": [],
   "source": [
    "Hawaii_df = bag_df[bag_df[\"Airline\"] == \"Hawaiian\"] # Creating DataFrame for only Hawaiian Airlines"
   ]
  },
  {
   "cell_type": "code",
   "execution_count": 84,
   "id": "8ec53aec",
   "metadata": {},
   "outputs": [],
   "source": [
    "hawaii_BE_Ave = [] # List for average B/E\n",
    "for year in year_list: # Loop through all unique years\n",
    "    # Calculate Sum of all B/E values then divide by 12 (months)\n",
    "    # Append this value to the list\n",
    "    hawaii_BE_Ave.append(Hawaii_df[Hawaii_df[\"Year\"] == year][\"B/E\"].sum() / 12)"
   ]
  },
  {
   "cell_type": "code",
   "execution_count": 85,
   "id": "1a988dc5",
   "metadata": {},
   "outputs": [],
   "source": [
    "# Create new column in Hawaii DF for Average B/E\n",
    "Hawaii[\"Average B/E\"] = pd.DataFrame(hawaii_BE_Ave) "
   ]
  },
  {
   "cell_type": "markdown",
   "id": "a3938d8d",
   "metadata": {},
   "source": [
    "# United"
   ]
  },
  {
   "cell_type": "code",
   "execution_count": 86,
   "id": "b477c327",
   "metadata": {},
   "outputs": [],
   "source": [
    "# Creating a DataFrame for year and average B/E ( Average B/E added later )\n",
    "United = pd.DataFrame()\n",
    "United[\"Year\"] = pd.DataFrame(year_list)"
   ]
  },
  {
   "cell_type": "markdown",
   "id": "7e2bb87f",
   "metadata": {},
   "source": [
    "### Calculating Average B/E"
   ]
  },
  {
   "cell_type": "code",
   "execution_count": 87,
   "id": "1b4fa1e4",
   "metadata": {},
   "outputs": [],
   "source": [
    "united_sub_df = bag_df[bag_df[\"Airline\"] == \"United\"]"
   ]
  },
  {
   "cell_type": "code",
   "execution_count": 88,
   "id": "8ef692fd",
   "metadata": {},
   "outputs": [],
   "source": [
    "united_BE_Ave = [] # List for average B/E\n",
    "for year in year_list: # Loop through all unique years\n",
    "    # Calculate Sum of all B/E values then divide by 12 (months)\n",
    "    # Append this value to the list\n",
    "    united_BE_Ave.append(united_sub_df[united_sub_df[\"Year\"] == year][\"B/E\"].sum() / 12)"
   ]
  },
  {
   "cell_type": "code",
   "execution_count": 89,
   "id": "4e20c4fa",
   "metadata": {},
   "outputs": [],
   "source": [
    "# Create new column in Hawaii DF for Average B/E\n",
    "United[\"Average B/E\"] = pd.DataFrame(united_BE_Ave) "
   ]
  }
 ],
 "metadata": {
  "kernelspec": {
   "display_name": "Python 3 (ipykernel)",
   "language": "python",
   "name": "python3"
  },
  "language_info": {
   "codemirror_mode": {
    "name": "ipython",
    "version": 3
   },
   "file_extension": ".py",
   "mimetype": "text/x-python",
   "name": "python",
   "nbconvert_exporter": "python",
   "pygments_lexer": "ipython3",
   "version": "3.11.4"
  }
 },
 "nbformat": 4,
 "nbformat_minor": 5
}
