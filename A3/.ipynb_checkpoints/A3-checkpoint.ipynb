{
 "cells": [
  {
   "cell_type": "code",
   "execution_count": 1,
   "id": "077e3704",
   "metadata": {},
   "outputs": [],
   "source": [
    "import matplotlib.pyplot as plt"
   ]
  },
  {
   "cell_type": "code",
   "execution_count": 2,
   "id": "1351e26e",
   "metadata": {},
   "outputs": [],
   "source": [
    "sample = \"This is a sample text. Sample text is a good example as It showcases how to count words in a text string.\""
   ]
  },
  {
   "cell_type": "code",
   "execution_count": 3,
   "id": "d442bf73",
   "metadata": {},
   "outputs": [],
   "source": [
    "my_list = []"
   ]
  },
  {
   "cell_type": "code",
   "execution_count": 4,
   "id": "9c4c0aa4",
   "metadata": {},
   "outputs": [],
   "source": [
    "my_dict = {}"
   ]
  },
  {
   "cell_type": "code",
   "execution_count": 5,
   "id": "eeea5cf7",
   "metadata": {},
   "outputs": [],
   "source": [
    "def make_dict(text):\n",
    "    my_list = text.split(' ')\n",
    "    for i in range(len(my_list)):\n",
    "        my_list[i] = my_list[i].lower()\n",
    "        if '.' in my_list[i]:\n",
    "            my_list[i] = my_list[i].replace('.','')\n",
    "        if my_dict.get(my_list[i]):\n",
    "            my_dict[my_list[i]] += 1\n",
    "        else:\n",
    "            my_dict[my_list[i]] = 1\n",
    "    return my_dict"
   ]
  },
  {
   "cell_type": "code",
   "execution_count": 6,
   "id": "8da357e6",
   "metadata": {},
   "outputs": [],
   "source": [
    "my_dict = make_dict(sample)"
   ]
  },
  {
   "cell_type": "code",
   "execution_count": 7,
   "id": "cee28901",
   "metadata": {},
   "outputs": [
    {
     "name": "stdout",
     "output_type": "stream",
     "text": [
      "{'this': 1, 'is': 2, 'a': 3, 'sample': 2, 'text': 3, 'good': 1, 'example': 1, 'as': 1, 'it': 1, 'showcases': 1, 'how': 1, 'to': 1, 'count': 1, 'words': 1, 'in': 1, 'string': 1}\n"
     ]
    }
   ],
   "source": [
    "print(my_dict)"
   ]
  },
  {
   "cell_type": "code",
   "execution_count": 9,
   "id": "c40a3b68",
   "metadata": {},
   "outputs": [],
   "source": [
    "my_keys = list(my_dict.keys())"
   ]
  },
  {
   "cell_type": "code",
   "execution_count": 11,
   "id": "432283e3",
   "metadata": {},
   "outputs": [],
   "source": [
    "my_values = list(my_dict.values())"
   ]
  },
  {
   "cell_type": "code",
   "execution_count": 12,
   "id": "b973e4ea",
   "metadata": {},
   "outputs": [
    {
     "name": "stdout",
     "output_type": "stream",
     "text": [
      "[1, 2, 3, 2, 3, 1, 1, 1, 1, 1, 1, 1, 1, 1, 1, 1]\n"
     ]
    }
   ],
   "source": [
    "print(my_values)"
   ]
  },
  {
   "cell_type": "code",
   "execution_count": 20,
   "id": "70c27d00",
   "metadata": {},
   "outputs": [
    {
     "data": {
      "image/png": "[encoded data removed]",
      "text/plain": [
       "<Figure size 200x200 with 1 Axes>"
      ]
     },
     "metadata": {},
     "output_type": "display_data"
    }
   ],
   "source": [
    "import matplotlib.pyplot as plt\n",
    "import numpy as np\n",
    "\n",
    "plt.style.use('_mpl-gallery')\n",
    "\n",
    "# plot\n",
    "fig, ax = plt.subplots()\n",
    "\n",
    "ax.bar(my_keys, my_values, width=1, edgecolor=\"white\", linewidth=.7)\n",
    "\n",
    "plt.show()"
   ]
  },
  {
   "cell_type": "code",
   "execution_count": null,
   "id": "d12ed7a5",
   "metadata": {},
   "outputs": [],
   "source": []
  }
 ],
 "metadata": {
  "kernelspec": {
   "display_name": "Python 3 (ipykernel)",
   "language": "python",
   "name": "python3"
  },
  "language_info": {
   "codemirror_mode": {
    "name": "ipython",
    "version": 3
   },
   "file_extension": ".py",
   "mimetype": "text/x-python",
   "name": "python",
   "nbconvert_exporter": "python",
   "pygments_lexer": "ipython3",
   "version": "3.11.4"
  }
 },
 "nbformat": 4,
 "nbformat_minor": 5
}
